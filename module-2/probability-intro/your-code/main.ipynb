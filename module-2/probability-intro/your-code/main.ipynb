{
 "cells": [
  {
   "cell_type": "markdown",
   "metadata": {},
   "source": [
    "# Introduction To Probability\n",
    "## Challenge 1\n",
    "\n",
    "A and B are events of a probability space with $(\\omega, \\sigma, P)$ such that $P(A) = 0.3$, $P(B) = 0.6$ and $P(A \\cap B) = 0.1$\n",
    "\n",
    "Which of the following statements are false?\n",
    "* $P(A \\cup B) = 0.6$\n",
    "* $P(A \\cap B^{C}) = 0.2$\n",
    "* $P(A \\cap (B \\cup B^{C})) = 0.4$\n",
    "* $P(A^{C} \\cap B^{C}) = 0.3$\n",
    "* $P((A \\cap B)^{C}) = 0.9$"
   ]
  },
  {
   "cell_type": "code",
   "execution_count": 5,
   "metadata": {},
   "outputs": [
    {
     "data": {
      "text/plain": [
       "'\\nyour solution here\\n\\nP(A U B) = 0.6 is False\\n\\nP(A U B) = P(A) + P(B) - $P(A \\\\cap B) = 0.3 + 0.6 - 0.1 = 0.8\\n'"
      ]
     },
     "execution_count": 5,
     "metadata": {},
     "output_type": "execute_result"
    }
   ],
   "source": [
    "\"\"\"\n",
    "your solution here\n",
    "\n",
    "P(A U B) = 0.6 is False\n",
    "\n",
    "P(A U B) = P(A) + P(B) - $P(A \\cap B) = 0.3 + 0.6 - 0.1 = 0.8\n",
    "\"\"\""
   ]
  },
  {
   "cell_type": "markdown",
   "metadata": {},
   "source": [
    "## Challenge 2\n",
    "There is a box with 10 white balls, 12 red balls and 8 black balls. Calculate the probability of:\n",
    "* Taking a white ball out.\n",
    "* Taking a white ball out after taking a black ball out.\n",
    "* Taking a red ball out after taking a black and a red ball out.\n",
    "* Taking a red ball out after taking a black and a red ball out with reposition.\n",
    "\n",
    "**Hint**: Reposition means putting back the ball into the box after taking it out."
   ]
  },
  {
   "cell_type": "code",
   "execution_count": null,
   "metadata": {},
   "outputs": [],
   "source": [
    "\"\"\"\n",
    "your solution here\n",
    "\n",
    "1.- P(white) = 1/3\n",
    "\n",
    "2.- P(white_after_black) = 10/29\n",
    "\n",
    "3.- P(red_after_black_after_red) = 11/28\n",
    "\n",
    "4.- P(red_repositon) = 6/15 = 2/5\n",
    "\"\"\""
   ]
  },
  {
   "cell_type": "markdown",
   "metadata": {},
   "source": [
    "## Challenge 3\n",
    "\n",
    "You are planning to go on a picnic today but the morning is cloudy. You hate rain so you don't know whether to go out or stay home! To help you make a decision, you gather the following data about rainy days:\n",
    "\n",
    "* 50% of all rainy days start off cloudy!\n",
    "* Cloudy mornings are common. About 40% of days start cloudy. \n",
    "* This month is usually dry so only 3 of 30 days (10%) tend to be rainy. \n",
    "\n",
    "What is the chance of rain during the day?"
   ]
  },
  {
   "cell_type": "code",
   "execution_count": 1,
   "metadata": {},
   "outputs": [
    {
     "data": {
      "text/plain": [
       "'\\nyour solution here\\n\\nP(rain) = 0.1\\nP(cloudy) = 0.4\\nP(cloudy|rain) = 0.5\\n\\nP(rain|cloudy) = P(rain)*P(cloudy|rain) / P(cloudy) = 0.1*0.5 / 0.4 = 0.125\\n\\n'"
      ]
     },
     "execution_count": 1,
     "metadata": {},
     "output_type": "execute_result"
    }
   ],
   "source": [
    "\"\"\"\n",
    "your solution here\n",
    "\n",
    "P(rain) = 0.1\n",
    "P(cloudy) = 0.4\n",
    "P(cloudy|rain) = 0.5\n",
    "\n",
    "P(rain|cloudy) = P(rain)*P(cloudy|rain) / P(cloudy) = 0.1*0.5 / 0.4 = 0.125\n",
    "\n",
    "\"\"\""
   ]
  },
  {
   "cell_type": "markdown",
   "metadata": {},
   "source": [
    "## Challenge 4\n",
    "\n",
    "One thousand people were asked through a telephone survey whether they thought more street lighting is needed at night or not.\n",
    "\n",
    "Out of the 480 men that answered the survey, 324 said yes and 156 said no. On the other hand, out of the 520 women that answered, 351 said yes and 169 said no. \n",
    "\n",
    "We wonder if men and women have a different opinions about the street lighting matter. Is gender relevant or irrelevant to the question?\n",
    "\n",
    "Consider the following events:\n",
    "- The answer is yes, so the person that answered thinks that more street lighting is needed.\n",
    "- The person who answered is a man.\n",
    "\n",
    "We want to know if these events are independent, that is, if the fact of wanting more light depends on whether one is male or female. Are these events independent or not?\n",
    "\n",
    "**Hint**: To clearly compare the answers by gender, it is best to place the data in a table."
   ]
  },
  {
   "cell_type": "code",
   "execution_count": 3,
   "metadata": {},
   "outputs": [
    {
     "data": {
      "text/html": [
       "<div>\n",
       "<style scoped>\n",
       "    .dataframe tbody tr th:only-of-type {\n",
       "        vertical-align: middle;\n",
       "    }\n",
       "\n",
       "    .dataframe tbody tr th {\n",
       "        vertical-align: top;\n",
       "    }\n",
       "\n",
       "    .dataframe thead th {\n",
       "        text-align: right;\n",
       "    }\n",
       "</style>\n",
       "<table border=\"1\" class=\"dataframe\">\n",
       "  <thead>\n",
       "    <tr style=\"text-align: right;\">\n",
       "      <th></th>\n",
       "      <th>men_ratio</th>\n",
       "      <th>women_ratio</th>\n",
       "    </tr>\n",
       "    <tr>\n",
       "      <th>answers</th>\n",
       "      <th></th>\n",
       "      <th></th>\n",
       "    </tr>\n",
       "  </thead>\n",
       "  <tbody>\n",
       "    <tr>\n",
       "      <th>yes</th>\n",
       "      <td>0.675</td>\n",
       "      <td>0.675</td>\n",
       "    </tr>\n",
       "    <tr>\n",
       "      <th>no</th>\n",
       "      <td>0.325</td>\n",
       "      <td>0.325</td>\n",
       "    </tr>\n",
       "  </tbody>\n",
       "</table>\n",
       "</div>"
      ],
      "text/plain": [
       "         men_ratio  women_ratio\n",
       "answers                        \n",
       "yes          0.675        0.675\n",
       "no           0.325        0.325"
      ]
     },
     "execution_count": 3,
     "metadata": {},
     "output_type": "execute_result"
    }
   ],
   "source": [
    "# your code here\n",
    "import pandas as pd\n",
    "\n",
    "df_poll = pd.DataFrame({'answers': ['yes', 'no'], 'men_ratio':[324/480, 156/480], 'women_ratio': [351/520, 169/520]}).set_index('answers')\n",
    "df_poll"
   ]
  },
  {
   "cell_type": "code",
   "execution_count": 6,
   "metadata": {},
   "outputs": [
    {
     "data": {
      "text/plain": [
       "'\\nthe answer ratios are the same when talking about men and woman so we can confirm that gender is no decisive when answering this question.\\n'"
      ]
     },
     "execution_count": 6,
     "metadata": {},
     "output_type": "execute_result"
    }
   ],
   "source": [
    "\"\"\"\n",
    "the answer ratios are the same when talking about men and woman so we can confirm that gender is no decisive when answering this question.\n",
    "\"\"\""
   ]
  },
  {
   "cell_type": "code",
   "execution_count": null,
   "metadata": {},
   "outputs": [],
   "source": []
  }
 ],
 "metadata": {
  "kernelspec": {
   "display_name": "Python [conda env:ironhack_env]",
   "language": "python",
   "name": "conda-env-ironhack_env-py"
  },
  "language_info": {
   "codemirror_mode": {
    "name": "ipython",
    "version": 3
   },
   "file_extension": ".py",
   "mimetype": "text/x-python",
   "name": "python",
   "nbconvert_exporter": "python",
   "pygments_lexer": "ipython3",
   "version": "3.7.7"
  }
 },
 "nbformat": 4,
 "nbformat_minor": 4
}
