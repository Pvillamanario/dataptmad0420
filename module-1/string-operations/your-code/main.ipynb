{
 "cells": [
  {
   "cell_type": "markdown",
   "metadata": {},
   "source": [
    "# Before your start:\n",
    "- Read the README.md file\n",
    "- Comment as much as you can and use the resources in the README.md file\n",
    "- Happy learning!"
   ]
  },
  {
   "cell_type": "code",
   "execution_count": 4,
   "metadata": {},
   "outputs": [],
   "source": [
    "import re"
   ]
  },
  {
   "cell_type": "markdown",
   "metadata": {},
   "source": [
    "# Challenge 1 - Combining Strings\n",
    "\n",
    "Combining strings is an important skill to acquire. There are multiple ways of combining strings in Python, as well as combining strings with variables. We will explore this in the first challenge. In the cell below, combine the strings in the list and add spaces between the strings (do not add a space after the last string). Insert a period after the last string."
   ]
  },
  {
   "cell_type": "code",
   "execution_count": 20,
   "metadata": {},
   "outputs": [
    {
     "name": "stdout",
     "output_type": "stream",
     "text": [
      "Durante un tiempo no estuvo segura de si su marido era su marido.\n"
     ]
    }
   ],
   "source": [
    "str_list = ['Durante', 'un', 'tiempo', 'no', 'estuvo', 'segura', 'de', 'si', 'su', 'marido', 'era', 'su', 'marido']\n",
    "\n",
    "# Your code here:\n",
    "\n",
    "print((' ').join(str_list) + '.')\n"
   ]
  },
  {
   "cell_type": "markdown",
   "metadata": {},
   "source": [
    "In the cell below, use the list of strings to create a grocery list. Start the list with the string `Grocery list: ` and include a comma and a space between each item except for the last one. Include a period at the end. Only include foods in the list that start with the letter 'b' and ensure all foods are lower case."
   ]
  },
  {
   "cell_type": "code",
   "execution_count": 4,
   "metadata": {},
   "outputs": [
    {
     "name": "stdout",
     "output_type": "stream",
     "text": [
      "Grocery list: bananas, bread, brownie mix, broccoli.\n"
     ]
    }
   ],
   "source": [
    "food_list = ['Bananas', 'Chocolate', 'bread', 'diapers', 'Ice Cream', 'Brownie Mix', 'broccoli']\n",
    "\n",
    "# Your code here:\n",
    "\n",
    "list1 = [i.lower() for i in food_list if ((i.lower()).startswith('b'))]\n",
    "\n",
    "print('Grocery list: ' + (', ').join(list1) + '.')\n"
   ]
  },
  {
   "cell_type": "markdown",
   "metadata": {},
   "source": [
    "In the cell below, write a function that computes the area of a circle using its radius. Compute the area of the circle and insert the radius and the area between the two strings. Make sure to include spaces between the variable and the strings. \n",
    "\n",
    "Note: You can use the techniques we have learned so far or use f-strings. F-strings allow us to embed code inside strings. You can read more about f-strings [here](https://www.python.org/dev/peps/pep-0498/)."
   ]
  },
  {
   "cell_type": "code",
   "execution_count": 34,
   "metadata": {},
   "outputs": [
    {
     "data": {
      "text/plain": [
       "'The area of the circle with radius: 4.5 is: 44.413'"
      ]
     },
     "execution_count": 34,
     "metadata": {},
     "output_type": "execute_result"
    }
   ],
   "source": [
    "import math\n",
    "\n",
    "string1 = \"The area of the circle with radius:\"\n",
    "string2  = \"is:\"\n",
    "radius = 4.5\n",
    "pi = math.pi\n",
    "\n",
    "def area(x, pi = math.pi):\n",
    "    \"\"\"\n",
    "    This function takes a radius and returns the area of a circle. \n",
    "    We also pass a default value for pi.\n",
    "    \n",
    "    Input: Float (and default value for pi)\n",
    "    Output: Float\n",
    "    \n",
    "    Sample input: 5.0\n",
    "    Sample Output: 78.53981633\n",
    "    \"\"\"\n",
    "    \n",
    "    # Your code here:\n",
    "    \n",
    "    a = x*(pi**2)\n",
    "    \n",
    "    return f'{string1} {x} {string2} {round(a, 3)}'\n",
    " \n",
    "    \n",
    "# Your output string here:\n",
    "\n",
    "print(area(radius))"
   ]
  },
  {
   "cell_type": "markdown",
   "metadata": {},
   "source": [
    "# Challenge 2 - Splitting Strings\n",
    "\n",
    "We have first looked at combining strings into one long string. There are times where we need to do the opposite and split the string into smaller components for further analysis. \n",
    "\n",
    "In the cell below, split the string into a list of strings using the space delimiter. Count the frequency of each word in the string in a dictionary. Strip the periods, line breaks and commas from the text. Make sure to remove empty strings from your dictionary."
   ]
  },
  {
   "cell_type": "code",
   "execution_count": 11,
   "metadata": {},
   "outputs": [
    {
     "name": "stdout",
     "output_type": "stream",
     "text": [
      "The word *ALSO* appears 1 times\n",
      "The word *AND* appears 1 times\n",
      "The word *BUT* appears 1 times\n",
      "The word *DESIRE* appears 1 times\n",
      "The word *DESTRUCTION* appears 1 times\n",
      "The word *END* appears 1 times\n",
      "The word *ENOUGH* appears 1 times\n",
      "The word *FAVOR* appears 1 times\n",
      "The word *FIRE* appears 2 times\n",
      "The word *FOR* appears 1 times\n",
      "The word *FROM* appears 1 times\n",
      "The word *GREAT* appears 1 times\n",
      "The word *HAD* appears 1 times\n",
      "The word *HATE* appears 1 times\n",
      "The word *HOLD* appears 1 times\n",
      "The word *I* appears 3 times\n",
      "The word *ICE* appears 2 times\n",
      "The word *IF* appears 1 times\n",
      "The word *IN* appears 2 times\n",
      "The word *IS* appears 1 times\n",
      "The word *IT* appears 1 times\n",
      "The word *I’VE* appears 1 times\n",
      "The word *KNOW* appears 1 times\n",
      "The word *OF* appears 2 times\n",
      "The word *PERISH* appears 1 times\n",
      "The word *SAY* appears 3 times\n",
      "The word *SOME* appears 2 times\n",
      "The word *SUFFICE* appears 1 times\n",
      "The word *TASTED* appears 1 times\n",
      "The word *THAT* appears 1 times\n",
      "The word *THE* appears 1 times\n",
      "The word *THINK* appears 1 times\n",
      "The word *THOSE* appears 1 times\n",
      "The word *TO* appears 2 times\n",
      "The word *TWICE* appears 1 times\n",
      "The word *WHAT* appears 1 times\n",
      "The word *WHO* appears 1 times\n",
      "The word *WILL* appears 1 times\n",
      "The word *WITH* appears 1 times\n",
      "The word *WORLD* appears 1 times\n",
      "The word *WOULD* appears 1 times\n"
     ]
    }
   ],
   "source": [
    "poem = \"\"\"Some say the world will end in fire,\n",
    "Some say in ice.\n",
    "From what I’ve tasted of desire\n",
    "I hold with those who favor fire.\n",
    "But if it had to perish twice,\n",
    "I think I know enough of hate\n",
    "To say that for destruction ice\n",
    "Is also great\n",
    "And would suffice.\"\"\"\n",
    "\n",
    "# Your code here:\n",
    "\n",
    "lst = poem.lower().rsplit()\n",
    "\n",
    "for i in lst:\n",
    "\n",
    "    if i.endswith(('.', ',')):\n",
    "        lst[lst.index(i)] = (i[:-1]).lower()\n",
    "\n",
    "poem_dict = {}\n",
    "\n",
    "for i in set(lst):\n",
    "    poem_dict[i] = lst.count(i)\n",
    "\n",
    "\n",
    "for i in sorted (poem_dict.keys()):\n",
    "    print(f'The word *{i.upper()}* appears {poem_dict[i]} times')\n"
   ]
  },
  {
   "cell_type": "markdown",
   "metadata": {},
   "source": [
    "In the cell below, find all the words that appear in the text and do not appear in the blacklist. You must parse the string but can choose any data structure you wish for the words that do not appear in the blacklist. Remove all non letter characters and convert all words to lower case."
   ]
  },
  {
   "cell_type": "code",
   "execution_count": 38,
   "metadata": {},
   "outputs": [
    {
     "name": "stdout",
     "output_type": "stream",
     "text": [
      "['&', 'angry', 'angry', 'apple', 'beheld', 'beneath', 'bore', 'both', 'bright', 'day', 'deceitful', 'did', 'did', 'end', 'fears', 'foe', 'foe', 'foe:', 'friend', 'garden', 'glad', 'grew', 'grow', 'had', 'he', 'i', 'i', 'i', 'i', 'i', 'i', 'i', 'into', 'knew', 'mine', 'morning', 'morning', 'my', 'my', 'my', 'my', 'my', 'my', 'my', 'my', 'my', 'night', 'night', 'night', 'not', 'outstretched', 'pole', 'see', 'shine', 'smiles', 'soft', 'stole', 'sunned', 'tears:', 'that', 'till', 'told', 'told', 'tree', 'veild', 'was', 'was', 'was', 'waterd', 'when', 'wiles', 'with', 'with', 'with', 'with', 'with', 'wrath', 'wrath', 'wrath']\n"
     ]
    }
   ],
   "source": [
    "blacklist = ['and', 'as', 'an', 'a', 'the', 'in', 'it']\n",
    "\n",
    "poem = \"\"\"I was angry with my friend; \n",
    "I told my wrath, my wrath did end.\n",
    "I was angry with my foe: \n",
    "I told it not, my wrath did grow. \n",
    "\n",
    "And I waterd it in fears,\n",
    "Night & morning with my tears: \n",
    "And I sunned it with smiles,\n",
    "And with soft deceitful wiles. \n",
    "\n",
    "And it grew both day and night. \n",
    "Till it bore an apple bright. \n",
    "And my foe beheld it shine,\n",
    "And he knew that it was mine. \n",
    "\n",
    "And into my garden stole, \n",
    "When the night had veild the pole; \n",
    "In the morning glad I see; \n",
    "My foe outstretched beneath the tree.\"\"\"\n",
    "\n",
    "# Your code here:\n",
    "\n",
    "lst = []\n",
    "\n",
    "for i in poem.rsplit():\n",
    "\n",
    "    if i.lower() in blacklist:\n",
    "        pass\n",
    "  \n",
    "    else:\n",
    "\n",
    "        if i.endswith(('.', ';', ',')):\n",
    "            lst.append(i[:-1])\n",
    "        else:\n",
    "            lst.append(i.lower())\n",
    "\n",
    "print(sorted(lst))"
   ]
  },
  {
   "cell_type": "markdown",
   "metadata": {},
   "source": [
    "# Challenge 3 - Regular Expressions\n",
    "\n",
    "Sometimes, we would like to perform more complex manipulations of our string. This is where regular expressions come in handy. In the cell below, return all characters that are upper case from the string specified below."
   ]
  },
  {
   "cell_type": "code",
   "execution_count": 7,
   "metadata": {},
   "outputs": [
    {
     "name": "stdout",
     "output_type": "stream",
     "text": [
      "['T', 'P']\n"
     ]
    }
   ],
   "source": [
    "poem = \"\"\"The apparition of these faces in the crowd;\n",
    "Petals on a wet, black bough.\"\"\"\n",
    "\n",
    "# Your code here:\n",
    "\n",
    "print(re.findall('[A-Z]',poem))"
   ]
  },
  {
   "cell_type": "markdown",
   "metadata": {},
   "source": [
    "In the cell below, filter the list provided and return all elements of the list containing a number. To filter the list, use the `re.search` function. Check if the function does not return `None`. You can read more about the `re.search` function [here](https://docs.python.org/3/library/re.html)."
   ]
  },
  {
   "cell_type": "code",
   "execution_count": 6,
   "metadata": {},
   "outputs": [
    {
     "name": "stdout",
     "output_type": "stream",
     "text": [
      "123abc is an alphanumeric nickname\n",
      "abc123 is an alphanumeric nickname\n",
      "JohnSmith1 is an alphanumeric nickname\n",
      "ABBY4 is an alphanumeric nickname\n"
     ]
    }
   ],
   "source": [
    "data = ['123abc', 'abc123', 'JohnSmith1', 'ABBY4', 'JANE']\n",
    "\n",
    "\n",
    "# Your code here:\n",
    "\n",
    "def num_nick(lst):\n",
    "\n",
    "    for str in lst:\n",
    "    \n",
    "        if re.search('[\\d]+', str):\n",
    "\n",
    "            print(f'{str} is an alphanumeric nickname')\n",
    "\n",
    "num_nick(data)"
   ]
  },
  {
   "cell_type": "markdown",
   "metadata": {},
   "source": [
    "# Bonus Challenge - Regular Expressions II\n",
    "\n",
    "In the cell below, filter the list provided to keep only strings containing at least one digit and at least one lower case letter. As in the previous question, use the `re.search` function and check that the result is not `None`.\n",
    "\n",
    "To read more about regular expressions, check out [this link](https://developers.google.com/edu/python/regular-expressions)."
   ]
  },
  {
   "cell_type": "code",
   "execution_count": 7,
   "metadata": {},
   "outputs": [
    {
     "name": "stdout",
     "output_type": "stream",
     "text": [
      "123abc\n",
      "abc123\n",
      "JohnSmith1\n"
     ]
    }
   ],
   "source": [
    "data = ['123abc', 'abc123', 'JohnSmith1', 'ABBY4', 'JANE']\n",
    "\n",
    "# Your code here:\n",
    "\n",
    "def num_nick(lst):\n",
    "\n",
    "    for str in lst:\n",
    "    \n",
    "        if re.search('[\\d]', str) and re.search('[a-z]', str):\n",
    "\n",
    "            print(str)\n",
    "\n",
    "num_nick(data)"
   ]
  }
 ],
 "metadata": {
  "kernelspec": {
   "display_name": "Python [conda env:ironhack_env]",
   "language": "python",
   "name": "conda-env-ironhack_env-py"
  },
  "language_info": {
   "codemirror_mode": {
    "name": "ipython",
    "version": 3
   },
   "file_extension": ".py",
   "mimetype": "text/x-python",
   "name": "python",
   "nbconvert_exporter": "python",
   "pygments_lexer": "ipython3",
   "version": "3.7.7"
  }
 },
 "nbformat": 4,
 "nbformat_minor": 4
}
