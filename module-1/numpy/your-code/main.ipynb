{
 "cells": [
  {
   "cell_type": "markdown",
   "metadata": {},
   "source": [
    "# Introduction to NumPy\n",
    "\n",
    "\n",
    "#### 1. Import NumPy under the name np."
   ]
  },
  {
   "cell_type": "code",
   "execution_count": 1,
   "metadata": {},
   "outputs": [],
   "source": [
    "# your code here\n",
    "\n",
    "import numpy as np\n",
    "import random"
   ]
  },
  {
   "cell_type": "markdown",
   "metadata": {},
   "source": [
    "#### 2. Print your NumPy version."
   ]
  },
  {
   "cell_type": "code",
   "execution_count": 2,
   "metadata": {},
   "outputs": [
    {
     "data": {
      "text/plain": [
       "'1.18.1'"
      ]
     },
     "execution_count": 2,
     "metadata": {},
     "output_type": "execute_result"
    }
   ],
   "source": [
    "# your code here\n",
    "\n",
    "(np.__version__)"
   ]
  },
  {
   "cell_type": "markdown",
   "metadata": {},
   "source": [
    "#### 3. Generate a 2x3x5 3-dimensional array with random values. Assign the array to variable *a*.\n",
    "**Challenge**: there are at least three easy ways that use numpy to generate random arrays. How many ways can you find?"
   ]
  },
  {
   "cell_type": "code",
   "execution_count": 3,
   "metadata": {},
   "outputs": [
    {
     "name": "stdout",
     "output_type": "stream",
     "text": [
      "[[[0.82450112 0.06613666 0.71291519 0.82495308 0.03376257]\n",
      "  [0.98534251 0.41827334 0.60355838 0.74955435 0.38709707]\n",
      "  [0.22292379 0.8381496  0.37885306 0.94978976 0.07937722]]\n",
      "\n",
      " [[0.41136121 0.37836947 0.42039567 0.53232312 0.57905173]\n",
      "  [0.36208394 0.33202798 0.10946172 0.29885158 0.47567318]\n",
      "  [0.26714822 0.61168253 0.85954485 0.77878637 0.43481003]]] \n",
      "\n",
      " (2, 3, 5)\n"
     ]
    }
   ],
   "source": [
    "# Method 1\n",
    "\n",
    "a = np.random.random((2,3,5))\n",
    "\n",
    "print(a, '\\n\\n', a.shape)"
   ]
  },
  {
   "cell_type": "code",
   "execution_count": 4,
   "metadata": {},
   "outputs": [],
   "source": [
    "# Method 2"
   ]
  },
  {
   "cell_type": "code",
   "execution_count": 5,
   "metadata": {},
   "outputs": [],
   "source": [
    "# Method 3"
   ]
  },
  {
   "cell_type": "markdown",
   "metadata": {},
   "source": [
    "#### 4. Print *a*.\n"
   ]
  },
  {
   "cell_type": "code",
   "execution_count": 6,
   "metadata": {},
   "outputs": [
    {
     "name": "stdout",
     "output_type": "stream",
     "text": [
      "[[[0.82450112 0.06613666 0.71291519 0.82495308 0.03376257]\n",
      "  [0.98534251 0.41827334 0.60355838 0.74955435 0.38709707]\n",
      "  [0.22292379 0.8381496  0.37885306 0.94978976 0.07937722]]\n",
      "\n",
      " [[0.41136121 0.37836947 0.42039567 0.53232312 0.57905173]\n",
      "  [0.36208394 0.33202798 0.10946172 0.29885158 0.47567318]\n",
      "  [0.26714822 0.61168253 0.85954485 0.77878637 0.43481003]]]\n"
     ]
    }
   ],
   "source": [
    "# your code here\n",
    "\n",
    "print(a)"
   ]
  },
  {
   "cell_type": "markdown",
   "metadata": {},
   "source": [
    "#### 5. Create a 5x2x3 3-dimensional array with all values equaling 1. Assign the array to variable *b*."
   ]
  },
  {
   "cell_type": "code",
   "execution_count": 7,
   "metadata": {},
   "outputs": [],
   "source": [
    "# your code here\n",
    "\n",
    "b= np.ones((5,2,3))"
   ]
  },
  {
   "cell_type": "markdown",
   "metadata": {},
   "source": [
    "#### 6. Print *b*.\n"
   ]
  },
  {
   "cell_type": "code",
   "execution_count": 8,
   "metadata": {},
   "outputs": [
    {
     "name": "stdout",
     "output_type": "stream",
     "text": [
      "[[[1. 1. 1.]\n",
      "  [1. 1. 1.]]\n",
      "\n",
      " [[1. 1. 1.]\n",
      "  [1. 1. 1.]]\n",
      "\n",
      " [[1. 1. 1.]\n",
      "  [1. 1. 1.]]\n",
      "\n",
      " [[1. 1. 1.]\n",
      "  [1. 1. 1.]]\n",
      "\n",
      " [[1. 1. 1.]\n",
      "  [1. 1. 1.]]] \n",
      "\n",
      " (5, 2, 3)\n"
     ]
    }
   ],
   "source": [
    "# your code here\n",
    "\n",
    "print(b, '\\n\\n', b.shape)"
   ]
  },
  {
   "cell_type": "markdown",
   "metadata": {},
   "source": [
    "#### 7. Do *a* and *b* have the same size? How do you prove that in Python code?"
   ]
  },
  {
   "cell_type": "code",
   "execution_count": 9,
   "metadata": {},
   "outputs": [
    {
     "name": "stdout",
     "output_type": "stream",
     "text": [
      "False\n"
     ]
    }
   ],
   "source": [
    "# your code here\n",
    "\n",
    "print((a.shape) == (b.shape))"
   ]
  },
  {
   "cell_type": "markdown",
   "metadata": {},
   "source": [
    "#### 8. Are you able to add *a* and *b*? Why or why not?\n"
   ]
  },
  {
   "cell_type": "code",
   "execution_count": 10,
   "metadata": {},
   "outputs": [],
   "source": [
    "# your answer here\n",
    "\n",
    "# a and b doesn't have the same shape (the same number of colunms and rows)"
   ]
  },
  {
   "cell_type": "markdown",
   "metadata": {},
   "source": [
    "#### 9. Transpose *b* so that it has the same structure of *a* (i.e. become a 2x3x5 array). Assign the transposed array to variable *c*."
   ]
  },
  {
   "cell_type": "code",
   "execution_count": 11,
   "metadata": {},
   "outputs": [
    {
     "name": "stdout",
     "output_type": "stream",
     "text": [
      "[[[1. 1. 1. 1. 1.]\n",
      "  [1. 1. 1. 1. 1.]\n",
      "  [1. 1. 1. 1. 1.]]\n",
      "\n",
      " [[1. 1. 1. 1. 1.]\n",
      "  [1. 1. 1. 1. 1.]\n",
      "  [1. 1. 1. 1. 1.]]] \n",
      "\n",
      " (2, 3, 5)\n"
     ]
    }
   ],
   "source": [
    "# your code here\n",
    "\n",
    "c = b.transpose(1,2,0)\n",
    "print(c, '\\n\\n', c.shape)"
   ]
  },
  {
   "cell_type": "markdown",
   "metadata": {},
   "source": [
    "#### 10. Try to add *a* and *c*. Now it should work. Assign the sum to variable *d*. But why does it work now?"
   ]
  },
  {
   "cell_type": "code",
   "execution_count": 12,
   "metadata": {},
   "outputs": [
    {
     "name": "stdout",
     "output_type": "stream",
     "text": [
      "[[[1.82450112 1.06613666 1.71291519 1.82495308 1.03376257]\n",
      "  [1.98534251 1.41827334 1.60355838 1.74955435 1.38709707]\n",
      "  [1.22292379 1.8381496  1.37885306 1.94978976 1.07937722]]\n",
      "\n",
      " [[1.41136121 1.37836947 1.42039567 1.53232312 1.57905173]\n",
      "  [1.36208394 1.33202798 1.10946172 1.29885158 1.47567318]\n",
      "  [1.26714822 1.61168253 1.85954485 1.77878637 1.43481003]]] \n",
      "\n",
      " (2, 3, 5)\n"
     ]
    }
   ],
   "source": [
    "# your code/answer here\n",
    "\n",
    "# d = a + c\n",
    "d = np.add(a,c)\n",
    "print(d, '\\n\\n', d.shape)\n",
    "\n",
    "# Transposing and changing the dimensions on matrix c to the same dimension as a, we're able to sum both of them."
   ]
  },
  {
   "cell_type": "markdown",
   "metadata": {},
   "source": [
    "#### 11. Print *a* and *d*. Notice the difference and relation of the two array in terms of the values? Explain."
   ]
  },
  {
   "cell_type": "code",
   "execution_count": 13,
   "metadata": {},
   "outputs": [
    {
     "name": "stdout",
     "output_type": "stream",
     "text": [
      "[[[0.82450112 0.06613666 0.71291519 0.82495308 0.03376257]\n",
      "  [0.98534251 0.41827334 0.60355838 0.74955435 0.38709707]\n",
      "  [0.22292379 0.8381496  0.37885306 0.94978976 0.07937722]]\n",
      "\n",
      " [[0.41136121 0.37836947 0.42039567 0.53232312 0.57905173]\n",
      "  [0.36208394 0.33202798 0.10946172 0.29885158 0.47567318]\n",
      "  [0.26714822 0.61168253 0.85954485 0.77878637 0.43481003]]] \n",
      "\n",
      " (2, 3, 5)\n",
      "\n",
      "[[[1.82450112 1.06613666 1.71291519 1.82495308 1.03376257]\n",
      "  [1.98534251 1.41827334 1.60355838 1.74955435 1.38709707]\n",
      "  [1.22292379 1.8381496  1.37885306 1.94978976 1.07937722]]\n",
      "\n",
      " [[1.41136121 1.37836947 1.42039567 1.53232312 1.57905173]\n",
      "  [1.36208394 1.33202798 1.10946172 1.29885158 1.47567318]\n",
      "  [1.26714822 1.61168253 1.85954485 1.77878637 1.43481003]]] \n",
      "\n",
      " (2, 3, 5)\n"
     ]
    }
   ],
   "source": [
    "# your code/answer here\n",
    "\n",
    "print(a, '\\n\\n', a.shape)\n",
    "print()\n",
    "print(d, '\\n\\n', d.shape)\n",
    "\n",
    "# Both have the same dimensions and d; d matrix is equal to adding 1 to every element from matrix a."
   ]
  },
  {
   "cell_type": "markdown",
   "metadata": {},
   "source": [
    "#### 12. Multiply *a* and *c*. Assign the result to *e*."
   ]
  },
  {
   "cell_type": "code",
   "execution_count": 14,
   "metadata": {},
   "outputs": [
    {
     "name": "stdout",
     "output_type": "stream",
     "text": [
      "[[[0.82450112 0.06613666 0.71291519 0.82495308 0.03376257]\n",
      "  [0.98534251 0.41827334 0.60355838 0.74955435 0.38709707]\n",
      "  [0.22292379 0.8381496  0.37885306 0.94978976 0.07937722]]\n",
      "\n",
      " [[0.41136121 0.37836947 0.42039567 0.53232312 0.57905173]\n",
      "  [0.36208394 0.33202798 0.10946172 0.29885158 0.47567318]\n",
      "  [0.26714822 0.61168253 0.85954485 0.77878637 0.43481003]]] \n",
      "\n",
      " (2, 3, 5)\n"
     ]
    }
   ],
   "source": [
    "# your code here\n",
    "\n",
    "# e = a*c\n",
    "e = np.multiply(a,c)\n",
    "\n",
    "print(e, '\\n\\n', e.shape)"
   ]
  },
  {
   "cell_type": "markdown",
   "metadata": {},
   "source": [
    "#### 13. Does *e* equal to *a*? Why or why not?\n"
   ]
  },
  {
   "cell_type": "code",
   "execution_count": 15,
   "metadata": {},
   "outputs": [
    {
     "data": {
      "text/plain": [
       "array([[[ True,  True,  True,  True,  True],\n",
       "        [ True,  True,  True,  True,  True],\n",
       "        [ True,  True,  True,  True,  True]],\n",
       "\n",
       "       [[ True,  True,  True,  True,  True],\n",
       "        [ True,  True,  True,  True,  True],\n",
       "        [ True,  True,  True,  True,  True]]])"
      ]
     },
     "execution_count": 15,
     "metadata": {},
     "output_type": "execute_result"
    }
   ],
   "source": [
    "# your code/answer here\n",
    "\n",
    "# Using * (or np.multiply(x,y)) operator, we're multiplying each element from a with the correspond element from b, so te result is the same as a.\n",
    "\n",
    "a == e"
   ]
  },
  {
   "cell_type": "markdown",
   "metadata": {},
   "source": [
    "#### 14. Identify the max, min, and mean values in *d*. Assign those values to variables *d_max*, *d_min* and *d_mean*."
   ]
  },
  {
   "cell_type": "code",
   "execution_count": 16,
   "metadata": {},
   "outputs": [
    {
     "name": "stdout",
     "output_type": "stream",
     "text": [
      "The max value is 1.98534, the min value in 1.03376 and the mean value is 1.49756.\n"
     ]
    }
   ],
   "source": [
    "# your code here\n",
    "d_max = d.max()\n",
    "d_min = d.min()\n",
    "d_mean = d.mean()\n",
    "\n",
    "print(f'The max value is {d_max.round(5)}, the min value in {d_min.round(5)} and the mean value is {d_mean.round(5)}.')"
   ]
  },
  {
   "cell_type": "markdown",
   "metadata": {},
   "source": [
    "#### 15. Now we want to label the values in *d*. First create an empty array *f* with the same shape (i.e. 2x3x5) as *d* using `np.empty`.\n"
   ]
  },
  {
   "cell_type": "code",
   "execution_count": 17,
   "metadata": {},
   "outputs": [
    {
     "name": "stdout",
     "output_type": "stream",
     "text": [
      "[[[0.82450112 0.06613666 0.71291519 0.82495308 0.03376257]\n",
      "  [0.98534251 0.41827334 0.60355838 0.74955435 0.38709707]\n",
      "  [0.22292379 0.8381496  0.37885306 0.94978976 0.07937722]]\n",
      "\n",
      " [[0.41136121 0.37836947 0.42039567 0.53232312 0.57905173]\n",
      "  [0.36208394 0.33202798 0.10946172 0.29885158 0.47567318]\n",
      "  [0.26714822 0.61168253 0.85954485 0.77878637 0.43481003]]]\n"
     ]
    }
   ],
   "source": [
    "# your code here\n",
    "f = np.empty((2,3,5))\n",
    "print(f)"
   ]
  },
  {
   "cell_type": "markdown",
   "metadata": {},
   "source": [
    "#### 16. Populate the values in *f*. \n",
    "\n",
    "For each value in *d*, if it's larger than *d_min* but smaller than *d_mean*, assign 25 to the corresponding value in *f*. If a value in *d* is larger than *d_mean* but smaller than *d_max*, assign 75 to the corresponding value in *f*. If a value equals to *d_mean*, assign 50 to the corresponding value in *f*. Assign 0 to the corresponding value(s) in *f* for *d_min* in *d*. Assign 100 to the corresponding value(s) in *f* for *d_max* in *d*. In the end, f should have only the following values: 0, 25, 50, 75, and 100.\n",
    "\n",
    "**Note**: you don't have to use Numpy in this question."
   ]
  },
  {
   "cell_type": "code",
   "execution_count": 21,
   "metadata": {},
   "outputs": [],
   "source": [
    "# your code here\n",
    "\n",
    "f = []\n",
    "\n",
    "for i in d.tolist():\n",
    "    for x in i:\n",
    "        for y in x:\n",
    "            \n",
    "            if y == d_min:\n",
    "                f.append(0)\n",
    "\n",
    "            elif y == d_mean:\n",
    "                f.append(50)\n",
    "\n",
    "            elif y == d_max:\n",
    "                f.append(100)\n",
    "\n",
    "            elif d_mean < y < d_max:\n",
    "                f.append(75)\n",
    "\n",
    "            elif d_min < y < d_mean:\n",
    "                f.append(25)\n",
    "    \n",
    "\n",
    "f = np.array(f).reshape(2,3,5)"
   ]
  },
  {
   "cell_type": "markdown",
   "metadata": {},
   "source": [
    "#### 17. Print *d* and *f*. Do you have your expected *f*?\n",
    "For instance, if your *d* is:\n",
    "```python\n",
    "[[[1.85836099, 1.67064465, 1.62576044, 1.40243961, 1.88454931],\n",
    "[1.75354326, 1.69403643, 1.36729252, 1.61415071, 1.12104981],\n",
    "[1.72201435, 1.1862918 , 1.87078449, 1.7726778 , 1.88180042]],\n",
    "[[1.44747908, 1.31673383, 1.02000951, 1.52218947, 1.97066381],\n",
    "[1.79129243, 1.74983003, 1.96028037, 1.85166831, 1.65450881],\n",
    "[1.18068344, 1.9587381 , 1.00656599, 1.93402165, 1.73514584]]]\n",
    "```\n",
    "Your *f* should be:\n",
    "```python\n",
    "[[[ 75.,  75.,  75.,  25.,  75.],\n",
    "[ 75.,  75.,  25.,  25.,  25.],\n",
    "[ 75.,  25.,  75.,  75.,  75.]],\n",
    "[[ 25.,  25.,  25.,  25., 100.],\n",
    "[ 75.,  75.,  75.,  75.,  75.],\n",
    "[ 25.,  75.,   0.,  75.,  75.]]]\n",
    "```"
   ]
  },
  {
   "cell_type": "code",
   "execution_count": 24,
   "metadata": {},
   "outputs": [
    {
     "name": "stdout",
     "output_type": "stream",
     "text": [
      "[[[ 75  25  75  75   0]\n",
      "  [100  25  75  75  25]\n",
      "  [ 25  75  25  75  25]]\n",
      "\n",
      " [[ 25  25  25  75  75]\n",
      "  [ 25  25  25  25  25]\n",
      "  [ 25  75  75  75  25]]]\n"
     ]
    },
    {
     "data": {
      "text/plain": [
       "30"
      ]
     },
     "execution_count": 24,
     "metadata": {},
     "output_type": "execute_result"
    }
   ],
   "source": [
    "# your code here\n",
    "print(f)\n",
    "f.size"
   ]
  },
  {
   "cell_type": "markdown",
   "metadata": {},
   "source": [
    "#### 18. Bonus question: instead of using numbers (i.e. 0, 25, 50, 75, and 100), use string values  (\"A\", \"B\", \"C\", \"D\", and \"E\") to label the array elements. For the example above, the expected result is:\n",
    "\n",
    "```python\n",
    "[[[ 'D',  'D',  'D',  'B',  'D'],\n",
    "[ 'D',  'D',  'B',  'B',  'B'],\n",
    "[ 'D',  'B',  'D',  'D',  'D']],\n",
    "[[ 'B',  'B',  'B',  'B',  'E'],\n",
    "[ 'D',  'D',  'D',  'D',  'D'],\n",
    "[ 'B',  'D',   'A',  'D', 'D']]]\n",
    "```\n",
    "**Note**: you don't have to use Numpy in this question."
   ]
  },
  {
   "cell_type": "code",
   "execution_count": 26,
   "metadata": {},
   "outputs": [
    {
     "name": "stdout",
     "output_type": "stream",
     "text": [
      "[[['D' 'B' 'D' 'D' 'A']\n",
      "  ['E' 'B' 'D' 'D' 'B']\n",
      "  ['B' 'D' 'B' 'D' 'B']]\n",
      "\n",
      " [['B' 'B' 'B' 'D' 'D']\n",
      "  ['B' 'B' 'B' 'B' 'B']\n",
      "  ['B' 'D' 'D' 'D' 'B']]]\n"
     ]
    }
   ],
   "source": [
    "# your code here\n",
    "f = []\n",
    "\n",
    "for i in d.tolist():\n",
    "    for x in i:\n",
    "        for y in x:\n",
    "            \n",
    "            if y == d_min:\n",
    "                f.append('A')\n",
    "\n",
    "            elif y == d_mean:\n",
    "                f.append('C')\n",
    "\n",
    "            elif y == d_max:\n",
    "                f.append('E')\n",
    "\n",
    "            elif d_mean < y < d_max:\n",
    "                f.append('D')\n",
    "\n",
    "            elif d_min < y < d_mean:\n",
    "                f.append('B')\n",
    "    \n",
    "\n",
    "f = np.array(f).reshape(2,3,5)\n",
    "\n",
    "print(f)"
   ]
  }
 ],
 "metadata": {
  "kernelspec": {
   "display_name": "Python [conda env:ironhack_env]",
   "language": "python",
   "name": "conda-env-ironhack_env-py"
  },
  "language_info": {
   "codemirror_mode": {
    "name": "ipython",
    "version": 3
   },
   "file_extension": ".py",
   "mimetype": "text/x-python",
   "name": "python",
   "nbconvert_exporter": "python",
   "pygments_lexer": "ipython3",
   "version": "3.7.7"
  }
 },
 "nbformat": 4,
 "nbformat_minor": 4
}
