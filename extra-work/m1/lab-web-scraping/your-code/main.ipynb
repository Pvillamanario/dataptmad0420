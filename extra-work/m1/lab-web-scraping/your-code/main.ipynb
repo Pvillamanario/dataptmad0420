{
 "cells": [
  {
   "cell_type": "markdown",
   "metadata": {},
   "source": [
    "# Web Scraping Lab\n",
    "\n",
    "You will find in this notebook some scrapy exercises to practise your scraping skills.\n",
    "\n",
    "**Tips:**\n",
    "\n",
    "- Check the response status code for each request to ensure you have obtained the intended content.\n",
    "- Print the response text in each request to understand the kind of info you are getting and its format.\n",
    "- Check for patterns in the response text to extract the data/info requested in each question.\n",
    "- Visit the urls below and take a look at their source code through Chrome DevTools. You'll need to identify the html tags, special class names, etc used in the html content you are expected to extract.\n",
    "\n",
    "**Resources**:\n",
    "- [Requests library](http://docs.python-requests.org/en/master/#the-user-guide)\n",
    "- [Beautiful Soup Doc](https://www.crummy.com/software/BeautifulSoup/bs4/doc/)\n",
    "- [Urllib](https://docs.python.org/3/library/urllib.html#module-urllib)\n",
    "- [re lib](https://docs.python.org/3/library/re.html)\n",
    "- [lxml lib](https://lxml.de/)\n",
    "- [Scrapy](https://scrapy.org/)\n",
    "- [List of HTTP status codes](https://en.wikipedia.org/wiki/List_of_HTTP_status_codes)\n",
    "- [HTML basics](http://www.simplehtmlguide.com/cheatsheet.php)\n",
    "- [CSS basics](https://www.cssbasics.com/#page_start)"
   ]
  },
  {
   "cell_type": "markdown",
   "metadata": {},
   "source": [
    "#### Below are the libraries and modules you may need. `requests`,  `BeautifulSoup` and `pandas` are already imported for you. If you prefer to use additional libraries feel free to do it."
   ]
  },
  {
   "cell_type": "code",
   "execution_count": 1,
   "metadata": {},
   "outputs": [],
   "source": [
    "import requests\n",
    "from bs4 import BeautifulSoup as bs\n",
    "import pandas as pd\n",
    "import re"
   ]
  },
  {
   "cell_type": "markdown",
   "metadata": {},
   "source": [
    "#### Download, parse (using BeautifulSoup), and print the content from the Trending Developers page from GitHub:"
   ]
  },
  {
   "cell_type": "code",
   "execution_count": 219,
   "metadata": {},
   "outputs": [],
   "source": [
    "# This is the url you will scrape in this exercise\n",
    "url = 'https://github.com/trending/developers'"
   ]
  },
  {
   "cell_type": "code",
   "execution_count": 220,
   "metadata": {},
   "outputs": [],
   "source": [
    "# your code here\n",
    "\n",
    "html = requests.get(url).content\n",
    "\n",
    "soup = bs(html, 'lxml')"
   ]
  },
  {
   "cell_type": "markdown",
   "metadata": {},
   "source": [
    "#### Display the names of the trending developers retrieved in the previous step.\n",
    "\n",
    "Your output should be a Python list of developer names. Each name should not contain any html tag.\n",
    "\n",
    "**Instructions:**\n",
    "\n",
    "1. Find out the html tag and class names used for the developer names. You can achieve this using Chrome DevTools.\n",
    "\n",
    "1. Use BeautifulSoup to extract all the html elements that contain the developer names.\n",
    "\n",
    "1. Use string manipulation techniques to replace whitespaces and linebreaks (i.e. `\\n`) in the *text* of each html element. Use a list to store the clean names.\n",
    "\n",
    "1. Print the list of names.\n",
    "\n",
    "Your output should look like below:\n",
    "\n",
    "```\n",
    "['trimstray (@trimstray)',\n",
    " 'joewalnes (JoeWalnes)',\n",
    " 'charlax (Charles-AxelDein)',\n",
    " 'ForrestKnight (ForrestKnight)',\n",
    " 'revery-ui (revery-ui)',\n",
    " 'alibaba (Alibaba)',\n",
    " 'Microsoft (Microsoft)',\n",
    " 'github (GitHub)',\n",
    " 'facebook (Facebook)',\n",
    " 'boazsegev (Bo)',\n",
    " 'google (Google)',\n",
    " 'cloudfetch',\n",
    " 'sindresorhus (SindreSorhus)',\n",
    " 'tensorflow',\n",
    " 'apache (TheApacheSoftwareFoundation)',\n",
    " 'DevonCrawford (DevonCrawford)',\n",
    " 'ARMmbed (ArmMbed)',\n",
    " 'vuejs (vuejs)',\n",
    " 'fastai (fast.ai)',\n",
    " 'QiShaoXuan (Qi)',\n",
    " 'joelparkerhenderson (JoelParkerHenderson)',\n",
    " 'torvalds (LinusTorvalds)',\n",
    " 'CyC2018',\n",
    " 'komeiji-satori (神楽坂覚々)',\n",
    " 'script-8']\n",
    " ```"
   ]
  },
  {
   "cell_type": "code",
   "execution_count": 222,
   "metadata": {},
   "outputs": [
    {
     "name": "stdout",
     "output_type": "stream",
     "text": [
      "jsha (Jacob Hoffman-Andrews)\n",
      "iaincollins (Iain Collins)\n",
      "vadimdemedes (Vadim Demedes)\n",
      "wkentaro (Kentaro Wada)\n",
      "minimaxir (Max Woolf)\n",
      "mwaskom (Michael Waskom)\n",
      "M0nica (Monica Powell)\n",
      "cclauss (Christian Clauss)\n",
      "deivid-rodriguez (David Rodríguez)\n",
      "developit (Jason Miller)\n",
      "jonhoo (Jon Gjengset)\n",
      "davidsonfellipe (Davidson Fellipe)\n",
      "FaridSafi (Farid Safi)\n",
      "ivanpaulovich (Ivan Paulovich)\n",
      "DeMoorJasper (Jasper De Moor)\n",
      "lefticus (Jason Turner)\n",
      "simolus3 (Simon Binder)\n",
      "mafintosh (Mathias Buus)\n",
      "kripken (Alon Zakai)\n",
      "johnpapa (John Papa)\n",
      "adamchainz (Adam Johnson)\n",
      "dtolnay (David Tolnay)\n",
      "jakearchibald (Jake Archibald)\n",
      "rizafahmi (Riza Fahmi)\n",
      "ghostdogpr (Pierre Ricadat)\n"
     ]
    }
   ],
   "source": [
    "# your code here\n",
    "\n",
    "developers = soup.find_all('h1', {'class':\"h3 lh-condensed\"})\n",
    "\n",
    "string = str(developers).split('href')\n",
    "lst = []\n",
    "\n",
    "for i in string[1:]:\n",
    "    x = re.findall(r'=\"/.*\"',i)[0][3:-1]\n",
    "    y = re.findall(r'\\s[A-Z].*', i)[0][1:]\n",
    "    \n",
    "    lst.append(x + ' (' + y + ')')\n",
    "\n",
    "# display(lst)\n",
    "print(*lst, sep='\\n')"
   ]
  },
  {
   "cell_type": "code",
   "execution_count": null,
   "metadata": {},
   "outputs": [],
   "source": []
  },
  {
   "cell_type": "markdown",
   "metadata": {},
   "source": [
    "#### Display the trending Python repositories in GitHub.\n",
    "\n",
    "The steps to solve this problem is similar to the previous one except that you need to find out the repository names instead of developer names."
   ]
  },
  {
   "cell_type": "code",
   "execution_count": 398,
   "metadata": {},
   "outputs": [],
   "source": [
    "# This is the url you will scrape in this exercise\n",
    "url = 'https://github.com/trending/python?since=daily'"
   ]
  },
  {
   "cell_type": "code",
   "execution_count": 399,
   "metadata": {},
   "outputs": [],
   "source": [
    "# your code here\n",
    "html = requests.get(url).content\n",
    "soup = bs(html, 'lxml')"
   ]
  },
  {
   "cell_type": "code",
   "execution_count": 400,
   "metadata": {},
   "outputs": [],
   "source": [
    "texts = soup.find_all('h1', {'class':\"h3 lh-condensed\"})\n",
    "texts = re.findall(r'href.*', str(texts))"
   ]
  },
  {
   "cell_type": "code",
   "execution_count": 401,
   "metadata": {},
   "outputs": [
    {
     "data": {
      "text/html": [
       "<div>\n",
       "<style scoped>\n",
       "    .dataframe tbody tr th:only-of-type {\n",
       "        vertical-align: middle;\n",
       "    }\n",
       "\n",
       "    .dataframe tbody tr th {\n",
       "        vertical-align: top;\n",
       "    }\n",
       "\n",
       "    .dataframe thead th {\n",
       "        text-align: right;\n",
       "    }\n",
       "</style>\n",
       "<table border=\"1\" class=\"dataframe\">\n",
       "  <thead>\n",
       "    <tr style=\"text-align: right;\">\n",
       "      <th></th>\n",
       "      <th>User</th>\n",
       "      <th>Project</th>\n",
       "      <th>Repository</th>\n",
       "    </tr>\n",
       "  </thead>\n",
       "  <tbody>\n",
       "    <tr>\n",
       "      <th>0</th>\n",
       "      <td>jackzhenguo</td>\n",
       "      <td>python-small-examples</td>\n",
       "      <td>http://www.github.com/jackzhenguo/python-small...</td>\n",
       "    </tr>\n",
       "    <tr>\n",
       "      <th>1</th>\n",
       "      <td>adamian98</td>\n",
       "      <td>pulse</td>\n",
       "      <td>http://www.github.com/adamian98/pulse</td>\n",
       "    </tr>\n",
       "    <tr>\n",
       "      <th>2</th>\n",
       "      <td>gto76</td>\n",
       "      <td>python-cheatsheet</td>\n",
       "      <td>http://www.github.com/gto76/python-cheatsheet</td>\n",
       "    </tr>\n",
       "    <tr>\n",
       "      <th>3</th>\n",
       "      <td>public-apis</td>\n",
       "      <td>public-apis</td>\n",
       "      <td>http://www.github.com/public-apis/public-apis</td>\n",
       "    </tr>\n",
       "    <tr>\n",
       "      <th>4</th>\n",
       "      <td>cython</td>\n",
       "      <td>cython</td>\n",
       "      <td>http://www.github.com/cython/cython</td>\n",
       "    </tr>\n",
       "    <tr>\n",
       "      <th>5</th>\n",
       "      <td>ckan</td>\n",
       "      <td>ckan</td>\n",
       "      <td>http://www.github.com/ckan/ckan</td>\n",
       "    </tr>\n",
       "    <tr>\n",
       "      <th>6</th>\n",
       "      <td>mementum</td>\n",
       "      <td>backtrader</td>\n",
       "      <td>http://www.github.com/mementum/backtrader</td>\n",
       "    </tr>\n",
       "    <tr>\n",
       "      <th>7</th>\n",
       "      <td>hankcs</td>\n",
       "      <td>HanLP</td>\n",
       "      <td>http://www.github.com/hankcs/HanLP</td>\n",
       "    </tr>\n",
       "    <tr>\n",
       "      <th>8</th>\n",
       "      <td>datawire</td>\n",
       "      <td>ambassador</td>\n",
       "      <td>http://www.github.com/datawire/ambassador</td>\n",
       "    </tr>\n",
       "    <tr>\n",
       "      <th>9</th>\n",
       "      <td>nccgroup</td>\n",
       "      <td>ScoutSuite</td>\n",
       "      <td>http://www.github.com/nccgroup/ScoutSuite</td>\n",
       "    </tr>\n",
       "    <tr>\n",
       "      <th>10</th>\n",
       "      <td>schenkd</td>\n",
       "      <td>nginx-ui</td>\n",
       "      <td>http://www.github.com/schenkd/nginx-ui</td>\n",
       "    </tr>\n",
       "    <tr>\n",
       "      <th>11</th>\n",
       "      <td>FederatedAI</td>\n",
       "      <td>FATE</td>\n",
       "      <td>http://www.github.com/FederatedAI/FATE</td>\n",
       "    </tr>\n",
       "    <tr>\n",
       "      <th>12</th>\n",
       "      <td>Pure-L0G1C</td>\n",
       "      <td>Instagram</td>\n",
       "      <td>http://www.github.com/Pure-L0G1C/Instagram</td>\n",
       "    </tr>\n",
       "    <tr>\n",
       "      <th>13</th>\n",
       "      <td>Fizzadar</td>\n",
       "      <td>pyinfra</td>\n",
       "      <td>http://www.github.com/Fizzadar/pyinfra</td>\n",
       "    </tr>\n",
       "    <tr>\n",
       "      <th>14</th>\n",
       "      <td>microsoft</td>\n",
       "      <td>hummingbird</td>\n",
       "      <td>http://www.github.com/microsoft/hummingbird</td>\n",
       "    </tr>\n",
       "    <tr>\n",
       "      <th>15</th>\n",
       "      <td>iperov</td>\n",
       "      <td>DeepFaceLab</td>\n",
       "      <td>http://www.github.com/iperov/DeepFaceLab</td>\n",
       "    </tr>\n",
       "    <tr>\n",
       "      <th>16</th>\n",
       "      <td>AvinashReddy3108</td>\n",
       "      <td>YetAnotherSMSBomber</td>\n",
       "      <td>http://www.github.com/AvinashReddy3108/YetAnot...</td>\n",
       "    </tr>\n",
       "    <tr>\n",
       "      <th>17</th>\n",
       "      <td>Mebus</td>\n",
       "      <td>cupp</td>\n",
       "      <td>http://www.github.com/Mebus/cupp</td>\n",
       "    </tr>\n",
       "    <tr>\n",
       "      <th>18</th>\n",
       "      <td>demisto</td>\n",
       "      <td>content</td>\n",
       "      <td>http://www.github.com/demisto/content</td>\n",
       "    </tr>\n",
       "    <tr>\n",
       "      <th>19</th>\n",
       "      <td>smicallef</td>\n",
       "      <td>spiderfoot</td>\n",
       "      <td>http://www.github.com/smicallef/spiderfoot</td>\n",
       "    </tr>\n",
       "    <tr>\n",
       "      <th>20</th>\n",
       "      <td>donnemartin</td>\n",
       "      <td>system-design-primer</td>\n",
       "      <td>http://www.github.com/donnemartin/system-desig...</td>\n",
       "    </tr>\n",
       "    <tr>\n",
       "      <th>21</th>\n",
       "      <td>google</td>\n",
       "      <td>jax</td>\n",
       "      <td>http://www.github.com/google/jax</td>\n",
       "    </tr>\n",
       "    <tr>\n",
       "      <th>22</th>\n",
       "      <td>DataDog</td>\n",
       "      <td>datadogpy</td>\n",
       "      <td>http://www.github.com/DataDog/datadogpy</td>\n",
       "    </tr>\n",
       "    <tr>\n",
       "      <th>23</th>\n",
       "      <td>minivision-ai</td>\n",
       "      <td>photo2cartoon</td>\n",
       "      <td>http://www.github.com/minivision-ai/photo2cartoon</td>\n",
       "    </tr>\n",
       "    <tr>\n",
       "      <th>24</th>\n",
       "      <td>huggingface</td>\n",
       "      <td>transformers</td>\n",
       "      <td>http://www.github.com/huggingface/transformers</td>\n",
       "    </tr>\n",
       "  </tbody>\n",
       "</table>\n",
       "</div>"
      ],
      "text/plain": [
       "                User                Project  \\\n",
       "0        jackzhenguo  python-small-examples   \n",
       "1          adamian98                  pulse   \n",
       "2              gto76      python-cheatsheet   \n",
       "3        public-apis            public-apis   \n",
       "4             cython                 cython   \n",
       "5               ckan                   ckan   \n",
       "6           mementum             backtrader   \n",
       "7             hankcs                  HanLP   \n",
       "8           datawire             ambassador   \n",
       "9           nccgroup             ScoutSuite   \n",
       "10           schenkd               nginx-ui   \n",
       "11       FederatedAI                   FATE   \n",
       "12        Pure-L0G1C              Instagram   \n",
       "13          Fizzadar                pyinfra   \n",
       "14         microsoft            hummingbird   \n",
       "15            iperov            DeepFaceLab   \n",
       "16  AvinashReddy3108    YetAnotherSMSBomber   \n",
       "17             Mebus                   cupp   \n",
       "18           demisto                content   \n",
       "19         smicallef             spiderfoot   \n",
       "20       donnemartin   system-design-primer   \n",
       "21            google                    jax   \n",
       "22           DataDog              datadogpy   \n",
       "23     minivision-ai          photo2cartoon   \n",
       "24       huggingface           transformers   \n",
       "\n",
       "                                           Repository  \n",
       "0   http://www.github.com/jackzhenguo/python-small...  \n",
       "1               http://www.github.com/adamian98/pulse  \n",
       "2       http://www.github.com/gto76/python-cheatsheet  \n",
       "3       http://www.github.com/public-apis/public-apis  \n",
       "4                 http://www.github.com/cython/cython  \n",
       "5                     http://www.github.com/ckan/ckan  \n",
       "6           http://www.github.com/mementum/backtrader  \n",
       "7                  http://www.github.com/hankcs/HanLP  \n",
       "8           http://www.github.com/datawire/ambassador  \n",
       "9           http://www.github.com/nccgroup/ScoutSuite  \n",
       "10             http://www.github.com/schenkd/nginx-ui  \n",
       "11             http://www.github.com/FederatedAI/FATE  \n",
       "12         http://www.github.com/Pure-L0G1C/Instagram  \n",
       "13             http://www.github.com/Fizzadar/pyinfra  \n",
       "14        http://www.github.com/microsoft/hummingbird  \n",
       "15           http://www.github.com/iperov/DeepFaceLab  \n",
       "16  http://www.github.com/AvinashReddy3108/YetAnot...  \n",
       "17                   http://www.github.com/Mebus/cupp  \n",
       "18              http://www.github.com/demisto/content  \n",
       "19         http://www.github.com/smicallef/spiderfoot  \n",
       "20  http://www.github.com/donnemartin/system-desig...  \n",
       "21                   http://www.github.com/google/jax  \n",
       "22            http://www.github.com/DataDog/datadogpy  \n",
       "23  http://www.github.com/minivision-ai/photo2cartoon  \n",
       "24     http://www.github.com/huggingface/transformers  "
      ]
     },
     "execution_count": 401,
     "metadata": {},
     "output_type": "execute_result"
    }
   ],
   "source": [
    "projects = []\n",
    "\n",
    "for i in texts:\n",
    "    lst = []\n",
    "    \n",
    "    name = i.split('/')[1]\n",
    "    project = i.split('/')[2][:-2]\n",
    "    repo = f'http://www.github.com/{name}/{project}'\n",
    "    \n",
    "    lst.extend((name, project, repo))\n",
    "    \n",
    "    projects.append(lst)\n",
    "    \n",
    "#     print(f'User {name} with project {project} at {repo}')\n",
    "\n",
    "pd.DataFrame(projects, columns=['User', 'Project', 'Repository'])\n"
   ]
  },
  {
   "cell_type": "code",
   "execution_count": null,
   "metadata": {},
   "outputs": [],
   "source": []
  },
  {
   "cell_type": "markdown",
   "metadata": {},
   "source": [
    "#### Display all the image links from Walt Disney wikipedia page."
   ]
  },
  {
   "cell_type": "code",
   "execution_count": 246,
   "metadata": {},
   "outputs": [],
   "source": [
    "# This is the url you will scrape in this exercise\n",
    "url = 'https://en.wikipedia.org/wiki/Walt_Disney'"
   ]
  },
  {
   "cell_type": "code",
   "execution_count": 247,
   "metadata": {},
   "outputs": [],
   "source": [
    "# your code here\n",
    "\n",
    "html = requests.get(url).content\n",
    "soup = bs(html, 'lxml')\n",
    "images = soup.find_all('a', {'class':\"image\"})"
   ]
  },
  {
   "cell_type": "code",
   "execution_count": 248,
   "metadata": {},
   "outputs": [
    {
     "data": {
      "text/plain": [
       "['/wiki/File:Walt_Disney_1946.JPG',\n",
       " '/wiki/File:Walt_Disney_1942_signature.svg',\n",
       " '/wiki/File:Walt_Disney_envelope_ca._1921.jpg',\n",
       " '/wiki/File:Trolley_Troubles_poster.jpg',\n",
       " '/wiki/File:Walt_Disney_and_his_cartoon_creation_%22Mickey_Mouse%22_-_National_Board_of_Review_Magazine.jpg',\n",
       " '/wiki/File:Steamboat-willie.jpg',\n",
       " '/wiki/File:Walt_Disney_1935.jpg',\n",
       " '/wiki/File:Walt_Disney_Snow_white_1937_trailer_screenshot_(13).jpg',\n",
       " '/wiki/File:Disney_drawing_goofy.jpg',\n",
       " '/wiki/File:DisneySchiphol1951.jpg',\n",
       " '/wiki/File:WaltDisneyplansDisneylandDec1954.jpg',\n",
       " '/wiki/File:Walt_disney_portrait_right.jpg',\n",
       " '/wiki/File:Walt_Disney_Grave.JPG',\n",
       " '/wiki/File:Roy_O._Disney_with_Company_at_Press_Conference.jpg',\n",
       " '/wiki/File:Disney_Display_Case.JPG',\n",
       " '/wiki/File:Disney1968.jpg',\n",
       " '/wiki/File:The_Walt_Disney_Company_Logo.svg',\n",
       " '/wiki/File:Animation_disc.svg',\n",
       " '/wiki/File:P_vip.svg',\n",
       " '/wiki/File:Magic_Kingdom_castle.jpg',\n",
       " '/wiki/File:Video-x-generic.svg',\n",
       " '/wiki/File:Flag_of_Los_Angeles_County,_California.svg',\n",
       " '/wiki/File:Blank_television_set.svg',\n",
       " '/wiki/File:Flag_of_the_United_States.svg']"
      ]
     },
     "metadata": {},
     "output_type": "display_data"
    }
   ],
   "source": [
    "pics = []\n",
    "for pic in images:\n",
    "    pics.append(re.findall(r'/wiki.*\"><', str(pic))[0][:-3])\n",
    "\n",
    "display(pics)"
   ]
  },
  {
   "cell_type": "code",
   "execution_count": null,
   "metadata": {},
   "outputs": [],
   "source": []
  },
  {
   "cell_type": "markdown",
   "metadata": {},
   "source": [
    "#### Retrieve an arbitary Wikipedia page of \"Python\" and create a list of links on that page."
   ]
  },
  {
   "cell_type": "code",
   "execution_count": null,
   "metadata": {},
   "outputs": [],
   "source": [
    "# This is the url you will scrape in this exercise\n",
    "url ='https://en.wikipedia.org/wiki/Python' "
   ]
  },
  {
   "cell_type": "code",
   "execution_count": null,
   "metadata": {},
   "outputs": [],
   "source": [
    "# your code here"
   ]
  },
  {
   "cell_type": "markdown",
   "metadata": {},
   "source": [
    "#### Find the number of titles that have changed in the United States Code since its last release point."
   ]
  },
  {
   "cell_type": "code",
   "execution_count": null,
   "metadata": {},
   "outputs": [],
   "source": [
    "# This is the url you will scrape in this exercise\n",
    "url = 'http://uscode.house.gov/download/download.shtml'"
   ]
  },
  {
   "cell_type": "code",
   "execution_count": null,
   "metadata": {},
   "outputs": [],
   "source": [
    "# your code here"
   ]
  },
  {
   "cell_type": "markdown",
   "metadata": {},
   "source": [
    "#### Find a Python list with the top ten FBI's Most Wanted names."
   ]
  },
  {
   "cell_type": "code",
   "execution_count": 251,
   "metadata": {},
   "outputs": [],
   "source": [
    "# This is the url you will scrape in this exercise\n",
    "url = 'https://www.fbi.gov/wanted/topten'"
   ]
  },
  {
   "cell_type": "code",
   "execution_count": 263,
   "metadata": {},
   "outputs": [],
   "source": [
    "# your code here\n",
    "\n",
    "html = requests.get(url).content\n",
    "soup = bs(html, 'lxml')"
   ]
  },
  {
   "cell_type": "code",
   "execution_count": 264,
   "metadata": {},
   "outputs": [],
   "source": [
    "soup = soup.find_all('h3', {'class': 'title'})"
   ]
  },
  {
   "cell_type": "code",
   "execution_count": 279,
   "metadata": {},
   "outputs": [
    {
     "data": {
      "text/plain": [
       "['YASER ABDEL SAID',\n",
       " 'ALEXIS FLORES',\n",
       " 'EUGENE PALMER',\n",
       " 'SANTIAGO VILLALBA MEDEROS',\n",
       " 'RAFAEL CARO-QUINTERO',\n",
       " 'ROBERT WILLIAM FISHER',\n",
       " 'BHADRESHKUMAR CHETANBHAI PATEL',\n",
       " 'ALEJANDRO ROSALES CASTILLO',\n",
       " 'ARNOLDO JIMENEZ',\n",
       " 'JASON DEREK BROWN']"
      ]
     },
     "metadata": {},
     "output_type": "display_data"
    }
   ],
   "source": [
    "most_wanted = []\n",
    "\n",
    "for i in soup:\n",
    "    most_wanted.append(re.findall(r'>.*<', str(i))[0][1:-1])\n",
    "    \n",
    "display(most_wanted)"
   ]
  },
  {
   "cell_type": "code",
   "execution_count": null,
   "metadata": {},
   "outputs": [],
   "source": []
  },
  {
   "cell_type": "markdown",
   "metadata": {},
   "source": [
    "####  Display the 20 latest earthquakes info (date, time, latitude, longitude and region name) by the EMSC as a pandas dataframe."
   ]
  },
  {
   "cell_type": "code",
   "execution_count": 412,
   "metadata": {},
   "outputs": [],
   "source": [
    "# This is the url you will scrape in this exercise\n",
    "url = 'https://www.emsc-csem.org/Earthquake/'"
   ]
  },
  {
   "cell_type": "code",
   "execution_count": 413,
   "metadata": {},
   "outputs": [],
   "source": [
    "# your code here\n",
    "\n",
    "html = requests.get(url).content\n",
    "soup = bs(html, 'lxml')\n",
    "\n",
    "soup = soup.find_all('td',{'class':[\"tabev1\", \"tabev2\", \"tabev6\", \"tb_region\"]})\n",
    "split = 7\n",
    "\n",
    "events = [soup[x:x+split] for x in range(0, len(soup), split)] "
   ]
  },
  {
   "cell_type": "code",
   "execution_count": 420,
   "metadata": {},
   "outputs": [],
   "source": [
    "earthquakes = []\n",
    "\n",
    "for event in events[:21]:\n",
    "    count += 1\n",
    "    earthq = []\n",
    "\n",
    "    date = re.findall(r'\\d{4}-\\d{2}-\\d{2}', str(event[0]))[0]    \n",
    "    time = re.findall(r'\\d{2}:\\d{2}:\\d{2}',str(event[0]))[0]\n",
    "    lat = re.findall(r'>\\d*\\.\\d*',str(event[1]))[0][1:] +\\\n",
    "        ' ' + re.findall(r'[A-Z]',str(event[2]))[0]\n",
    "    lon= re.findall(r'>\\d*\\.\\d*',str(event[3]))[0][1:] +\\\n",
    "        ' ' + re.findall(r'[A-Z]',str(event[4]))[0]\n",
    "    region = re.findall(r'\">.*<', str(event[6]))[0][3:-1]\n",
    "\n",
    "    earthq.extend((date, time, lat, lon, region))\n",
    "\n",
    "    earthquakes.append(earthq)"
   ]
  },
  {
   "cell_type": "code",
   "execution_count": 421,
   "metadata": {},
   "outputs": [
    {
     "data": {
      "text/html": [
       "<div>\n",
       "<style scoped>\n",
       "    .dataframe tbody tr th:only-of-type {\n",
       "        vertical-align: middle;\n",
       "    }\n",
       "\n",
       "    .dataframe tbody tr th {\n",
       "        vertical-align: top;\n",
       "    }\n",
       "\n",
       "    .dataframe thead th {\n",
       "        text-align: right;\n",
       "    }\n",
       "</style>\n",
       "<table border=\"1\" class=\"dataframe\">\n",
       "  <thead>\n",
       "    <tr style=\"text-align: right;\">\n",
       "      <th></th>\n",
       "      <th>Date</th>\n",
       "      <th>Time</th>\n",
       "      <th>Latitude</th>\n",
       "      <th>Longitude</th>\n",
       "      <th>Region</th>\n",
       "    </tr>\n",
       "  </thead>\n",
       "  <tbody>\n",
       "    <tr>\n",
       "      <th>0</th>\n",
       "      <td>2020-06-23</td>\n",
       "      <td>09:14:54</td>\n",
       "      <td>8.00 S</td>\n",
       "      <td>110.76 E</td>\n",
       "      <td>JAVA, INDONESIA</td>\n",
       "    </tr>\n",
       "    <tr>\n",
       "      <th>1</th>\n",
       "      <td>2020-06-23</td>\n",
       "      <td>09:07:14</td>\n",
       "      <td>17.12 N</td>\n",
       "      <td>94.75 W</td>\n",
       "      <td>OAXACA, MEXICO</td>\n",
       "    </tr>\n",
       "    <tr>\n",
       "      <th>2</th>\n",
       "      <td>2020-06-23</td>\n",
       "      <td>08:48:31</td>\n",
       "      <td>38.16 N</td>\n",
       "      <td>117.97 W</td>\n",
       "      <td>NEVADA</td>\n",
       "    </tr>\n",
       "    <tr>\n",
       "      <th>3</th>\n",
       "      <td>2020-06-23</td>\n",
       "      <td>08:32:46</td>\n",
       "      <td>17.97 N</td>\n",
       "      <td>66.82 W</td>\n",
       "      <td>PUERTO RICO</td>\n",
       "    </tr>\n",
       "    <tr>\n",
       "      <th>4</th>\n",
       "      <td>2020-06-23</td>\n",
       "      <td>08:21:07</td>\n",
       "      <td>19.21 N</td>\n",
       "      <td>155.40 W</td>\n",
       "      <td>ISLAND OF HAWAII, HAWAII</td>\n",
       "    </tr>\n",
       "    <tr>\n",
       "      <th>5</th>\n",
       "      <td>2020-06-23</td>\n",
       "      <td>08:20:19</td>\n",
       "      <td>43.89 N</td>\n",
       "      <td>18.59 E</td>\n",
       "      <td>BOSNIA AND HERZEGOVINA</td>\n",
       "    </tr>\n",
       "    <tr>\n",
       "      <th>6</th>\n",
       "      <td>2020-06-23</td>\n",
       "      <td>08:11:52</td>\n",
       "      <td>39.72 N</td>\n",
       "      <td>38.89 E</td>\n",
       "      <td>EASTERN TURKEY</td>\n",
       "    </tr>\n",
       "    <tr>\n",
       "      <th>7</th>\n",
       "      <td>2020-06-23</td>\n",
       "      <td>08:01:33</td>\n",
       "      <td>31.55 N</td>\n",
       "      <td>104.13 W</td>\n",
       "      <td>WESTERN TEXAS</td>\n",
       "    </tr>\n",
       "    <tr>\n",
       "      <th>8</th>\n",
       "      <td>2020-06-23</td>\n",
       "      <td>07:59:35</td>\n",
       "      <td>19.22 N</td>\n",
       "      <td>155.40 W</td>\n",
       "      <td>ISLAND OF HAWAII, HAWAII</td>\n",
       "    </tr>\n",
       "    <tr>\n",
       "      <th>9</th>\n",
       "      <td>2020-06-23</td>\n",
       "      <td>07:59:08</td>\n",
       "      <td>60.99 N</td>\n",
       "      <td>150.80 W</td>\n",
       "      <td>KENAI PENINSULA, ALASKA</td>\n",
       "    </tr>\n",
       "    <tr>\n",
       "      <th>10</th>\n",
       "      <td>2020-06-23</td>\n",
       "      <td>07:57:54</td>\n",
       "      <td>36.47 N</td>\n",
       "      <td>117.99 W</td>\n",
       "      <td>CENTRAL CALIFORNIA</td>\n",
       "    </tr>\n",
       "    <tr>\n",
       "      <th>11</th>\n",
       "      <td>2020-06-23</td>\n",
       "      <td>07:49:44</td>\n",
       "      <td>19.64 S</td>\n",
       "      <td>70.20 W</td>\n",
       "      <td>OFFSHORE TARAPACA, CHILE</td>\n",
       "    </tr>\n",
       "    <tr>\n",
       "      <th>12</th>\n",
       "      <td>2020-06-23</td>\n",
       "      <td>07:44:51</td>\n",
       "      <td>36.45 N</td>\n",
       "      <td>117.98 W</td>\n",
       "      <td>CENTRAL CALIFORNIA</td>\n",
       "    </tr>\n",
       "    <tr>\n",
       "      <th>13</th>\n",
       "      <td>2020-06-23</td>\n",
       "      <td>07:43:27</td>\n",
       "      <td>0.17 N</td>\n",
       "      <td>123.74 E</td>\n",
       "      <td>MINAHASA, SULAWESI, INDONESIA</td>\n",
       "    </tr>\n",
       "    <tr>\n",
       "      <th>14</th>\n",
       "      <td>2020-06-23</td>\n",
       "      <td>07:36:34</td>\n",
       "      <td>34.55 N</td>\n",
       "      <td>32.46 E</td>\n",
       "      <td>CYPRUS REGION</td>\n",
       "    </tr>\n",
       "    <tr>\n",
       "      <th>15</th>\n",
       "      <td>2020-06-23</td>\n",
       "      <td>07:36:04</td>\n",
       "      <td>37.18 N</td>\n",
       "      <td>3.79 E</td>\n",
       "      <td>WESTERN MEDITERRANEAN SEA</td>\n",
       "    </tr>\n",
       "    <tr>\n",
       "      <th>16</th>\n",
       "      <td>2020-06-23</td>\n",
       "      <td>07:18:03</td>\n",
       "      <td>17.83 N</td>\n",
       "      <td>67.01 W</td>\n",
       "      <td>PUERTO RICO REGION</td>\n",
       "    </tr>\n",
       "    <tr>\n",
       "      <th>17</th>\n",
       "      <td>2020-06-23</td>\n",
       "      <td>07:13:20</td>\n",
       "      <td>43.06 N</td>\n",
       "      <td>7.20 W</td>\n",
       "      <td>SPAIN</td>\n",
       "    </tr>\n",
       "    <tr>\n",
       "      <th>18</th>\n",
       "      <td>2020-06-23</td>\n",
       "      <td>07:08:42</td>\n",
       "      <td>17.95 N</td>\n",
       "      <td>66.98 W</td>\n",
       "      <td>PUERTO RICO REGION</td>\n",
       "    </tr>\n",
       "    <tr>\n",
       "      <th>19</th>\n",
       "      <td>2020-06-23</td>\n",
       "      <td>07:07:44</td>\n",
       "      <td>19.19 N</td>\n",
       "      <td>155.51 W</td>\n",
       "      <td>ISLAND OF HAWAII, HAWAII</td>\n",
       "    </tr>\n",
       "    <tr>\n",
       "      <th>20</th>\n",
       "      <td>2020-06-23</td>\n",
       "      <td>06:57:45</td>\n",
       "      <td>25.43 S</td>\n",
       "      <td>69.29 W</td>\n",
       "      <td>ANTOFAGASTA, CHILE</td>\n",
       "    </tr>\n",
       "  </tbody>\n",
       "</table>\n",
       "</div>"
      ],
      "text/plain": [
       "          Date      Time Latitude Longitude                         Region\n",
       "0   2020-06-23  09:14:54   8.00 S  110.76 E                JAVA, INDONESIA\n",
       "1   2020-06-23  09:07:14  17.12 N   94.75 W                 OAXACA, MEXICO\n",
       "2   2020-06-23  08:48:31  38.16 N  117.97 W                         NEVADA\n",
       "3   2020-06-23  08:32:46  17.97 N   66.82 W                    PUERTO RICO\n",
       "4   2020-06-23  08:21:07  19.21 N  155.40 W       ISLAND OF HAWAII, HAWAII\n",
       "5   2020-06-23  08:20:19  43.89 N   18.59 E         BOSNIA AND HERZEGOVINA\n",
       "6   2020-06-23  08:11:52  39.72 N   38.89 E                 EASTERN TURKEY\n",
       "7   2020-06-23  08:01:33  31.55 N  104.13 W                  WESTERN TEXAS\n",
       "8   2020-06-23  07:59:35  19.22 N  155.40 W       ISLAND OF HAWAII, HAWAII\n",
       "9   2020-06-23  07:59:08  60.99 N  150.80 W        KENAI PENINSULA, ALASKA\n",
       "10  2020-06-23  07:57:54  36.47 N  117.99 W             CENTRAL CALIFORNIA\n",
       "11  2020-06-23  07:49:44  19.64 S   70.20 W       OFFSHORE TARAPACA, CHILE\n",
       "12  2020-06-23  07:44:51  36.45 N  117.98 W             CENTRAL CALIFORNIA\n",
       "13  2020-06-23  07:43:27   0.17 N  123.74 E  MINAHASA, SULAWESI, INDONESIA\n",
       "14  2020-06-23  07:36:34  34.55 N   32.46 E                  CYPRUS REGION\n",
       "15  2020-06-23  07:36:04  37.18 N    3.79 E      WESTERN MEDITERRANEAN SEA\n",
       "16  2020-06-23  07:18:03  17.83 N   67.01 W             PUERTO RICO REGION\n",
       "17  2020-06-23  07:13:20  43.06 N    7.20 W                          SPAIN\n",
       "18  2020-06-23  07:08:42  17.95 N   66.98 W             PUERTO RICO REGION\n",
       "19  2020-06-23  07:07:44  19.19 N  155.51 W       ISLAND OF HAWAII, HAWAII\n",
       "20  2020-06-23  06:57:45  25.43 S   69.29 W             ANTOFAGASTA, CHILE"
      ]
     },
     "execution_count": 421,
     "metadata": {},
     "output_type": "execute_result"
    }
   ],
   "source": [
    "pd.DataFrame(earthquakes, columns=['Date', 'Time', 'Latitude', 'Longitude', 'Region'])"
   ]
  },
  {
   "cell_type": "code",
   "execution_count": null,
   "metadata": {},
   "outputs": [],
   "source": []
  },
  {
   "cell_type": "markdown",
   "metadata": {},
   "source": [
    "## -- Hasta aquí --"
   ]
  },
  {
   "cell_type": "code",
   "execution_count": null,
   "metadata": {},
   "outputs": [],
   "source": []
  },
  {
   "cell_type": "markdown",
   "metadata": {},
   "source": [
    "#### Count the number of tweets by a given Twitter account.\n",
    "Ask the user for the handle (@handle) of a twitter account. You will need to include a ***try/except block*** for account names not found. \n",
    "<br>***Hint:*** the program should count the number of tweets for any provided account."
   ]
  },
  {
   "cell_type": "code",
   "execution_count": null,
   "metadata": {},
   "outputs": [],
   "source": [
    "# This is the url you will scrape in this exercise \n",
    "# You will need to add the account credentials to this url\n",
    "url = 'https://twitter.com/'"
   ]
  },
  {
   "cell_type": "code",
   "execution_count": null,
   "metadata": {},
   "outputs": [],
   "source": [
    "# your code here"
   ]
  },
  {
   "cell_type": "markdown",
   "metadata": {},
   "source": [
    "#### Number of followers of a given twitter account\n",
    "Ask the user for the handle (@handle) of a twitter account. You will need to include a ***try/except block*** for account names not found. \n",
    "<br>***Hint:*** the program should count the followers for any provided account."
   ]
  },
  {
   "cell_type": "code",
   "execution_count": null,
   "metadata": {},
   "outputs": [],
   "source": [
    "# This is the url you will scrape in this exercise \n",
    "# You will need to add the account credentials to this url\n",
    "url = 'https://twitter.com/'"
   ]
  },
  {
   "cell_type": "code",
   "execution_count": null,
   "metadata": {},
   "outputs": [],
   "source": [
    "# your code here"
   ]
  },
  {
   "cell_type": "markdown",
   "metadata": {},
   "source": [
    "#### List all language names and number of related articles in the order they appear in wikipedia.org."
   ]
  },
  {
   "cell_type": "code",
   "execution_count": null,
   "metadata": {},
   "outputs": [],
   "source": [
    "# This is the url you will scrape in this exercise\n",
    "url = 'https://www.wikipedia.org/'"
   ]
  },
  {
   "cell_type": "code",
   "execution_count": null,
   "metadata": {},
   "outputs": [],
   "source": [
    "# your code here"
   ]
  },
  {
   "cell_type": "markdown",
   "metadata": {},
   "source": [
    "#### A list with the different kind of datasets available in data.gov.uk."
   ]
  },
  {
   "cell_type": "code",
   "execution_count": null,
   "metadata": {},
   "outputs": [],
   "source": [
    "# This is the url you will scrape in this exercise\n",
    "url = 'https://data.gov.uk/'"
   ]
  },
  {
   "cell_type": "code",
   "execution_count": null,
   "metadata": {},
   "outputs": [],
   "source": [
    "# your code here"
   ]
  },
  {
   "cell_type": "markdown",
   "metadata": {},
   "source": [
    "#### Display the top 10 languages by number of native speakers stored in a pandas dataframe."
   ]
  },
  {
   "cell_type": "code",
   "execution_count": null,
   "metadata": {},
   "outputs": [],
   "source": [
    "# This is the url you will scrape in this exercise\n",
    "url = 'https://en.wikipedia.org/wiki/List_of_languages_by_number_of_native_speakers'"
   ]
  },
  {
   "cell_type": "code",
   "execution_count": null,
   "metadata": {},
   "outputs": [],
   "source": [
    "# your code here"
   ]
  },
  {
   "cell_type": "markdown",
   "metadata": {},
   "source": [
    "## Bonus\n",
    "#### Scrape a certain number of tweets of a given Twitter account."
   ]
  },
  {
   "cell_type": "code",
   "execution_count": null,
   "metadata": {},
   "outputs": [],
   "source": [
    "# This is the url you will scrape in this exercise \n",
    "# You will need to add the account credentials to this url\n",
    "url = 'https://twitter.com/'"
   ]
  },
  {
   "cell_type": "code",
   "execution_count": null,
   "metadata": {},
   "outputs": [],
   "source": [
    "# your code here"
   ]
  },
  {
   "cell_type": "markdown",
   "metadata": {},
   "source": [
    "#### Display IMDB's top 250 data (movie name, initial release, director name and stars) as a pandas dataframe."
   ]
  },
  {
   "cell_type": "code",
   "execution_count": null,
   "metadata": {},
   "outputs": [],
   "source": [
    "# This is the url you will scrape in this exercise \n",
    "url = 'https://www.imdb.com/chart/top'"
   ]
  },
  {
   "cell_type": "code",
   "execution_count": null,
   "metadata": {},
   "outputs": [],
   "source": [
    "# your code here"
   ]
  },
  {
   "cell_type": "markdown",
   "metadata": {},
   "source": [
    "#### Display the movie name, year and a brief summary of the top 10 random movies (IMDB) as a pandas dataframe."
   ]
  },
  {
   "cell_type": "code",
   "execution_count": null,
   "metadata": {},
   "outputs": [],
   "source": [
    "#This is the url you will scrape in this exercise\n",
    "url = 'http://www.imdb.com/chart/top'"
   ]
  },
  {
   "cell_type": "code",
   "execution_count": null,
   "metadata": {},
   "outputs": [],
   "source": [
    "# your code here"
   ]
  },
  {
   "cell_type": "markdown",
   "metadata": {},
   "source": [
    "#### Find the live weather report (temperature, wind speed, description and weather) of a given city."
   ]
  },
  {
   "cell_type": "code",
   "execution_count": null,
   "metadata": {},
   "outputs": [],
   "source": [
    "#https://openweathermap.org/current\n",
    "city = input('Enter the city: ')\n",
    "url = 'http://api.openweathermap.org/data/2.5/weather?'+'q='+city+'&APPID=b35975e18dc93725acb092f7272cc6b8&units=metric'"
   ]
  },
  {
   "cell_type": "code",
   "execution_count": null,
   "metadata": {},
   "outputs": [],
   "source": [
    "# your code here"
   ]
  },
  {
   "cell_type": "markdown",
   "metadata": {},
   "source": [
    "#### Find the book name, price and stock availability as a pandas dataframe."
   ]
  },
  {
   "cell_type": "code",
   "execution_count": null,
   "metadata": {},
   "outputs": [],
   "source": [
    "# This is the url you will scrape in this exercise. \n",
    "# It is a fictional bookstore created to be scraped. \n",
    "url = 'http://books.toscrape.com/'"
   ]
  },
  {
   "cell_type": "code",
   "execution_count": null,
   "metadata": {},
   "outputs": [],
   "source": [
    "# your code here"
   ]
  }
 ],
 "metadata": {
  "kernelspec": {
   "display_name": "Python [conda env:ironhack_env]",
   "language": "python",
   "name": "conda-env-ironhack_env-py"
  },
  "language_info": {
   "codemirror_mode": {
    "name": "ipython",
    "version": 3
   },
   "file_extension": ".py",
   "mimetype": "text/x-python",
   "name": "python",
   "nbconvert_exporter": "python",
   "pygments_lexer": "ipython3",
   "version": "3.7.7"
  }
 },
 "nbformat": 4,
 "nbformat_minor": 4
}
