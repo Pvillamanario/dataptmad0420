{
 "cells": [
  {
   "cell_type": "code",
   "execution_count": 89,
   "metadata": {},
   "outputs": [],
   "source": [
    "import pandas as pd\n",
    "import numpy as np\n",
    "from sklearn import preprocessing\n",
    "from sklearn.model_selection import train_test_split\n",
    "import tensorflow as tf"
   ]
  },
  {
   "cell_type": "markdown",
   "metadata": {},
   "source": [
    "# Challenge 1 - Tic Tac Toe\n",
    "\n",
    "In this lab you will perform deep learning analysis on a dataset of playing [Tic Tac Toe](https://en.wikipedia.org/wiki/Tic-tac-toe).\n",
    "\n",
    "There are 9 grids in Tic Tac Toe that are coded as the following picture shows:\n",
    "\n",
    "![Tic Tac Toe Grids](tttboard.jpg)\n",
    "\n",
    "In the first 9 columns of the dataset you can find which marks (`x` or `o`) exist in the grids. If there is no mark in a certain grid, it is labeled as `b`. The last column is `class` which tells you whether Player X (who always moves first in Tic Tac Toe) wins in this configuration. Note that when `class` has the value `False`, it means either Player O wins the game or it ends up as a draw."
   ]
  },
  {
   "cell_type": "markdown",
   "metadata": {},
   "source": [
    "Follow the steps suggested below to conduct a neural network analysis using Tensorflow and Keras. You will build a deep learning model to predict whether Player X wins the game or not.\n",
    "\n",
    "## Step 1: Data Engineering\n",
    "\n",
    "This dataset is almost in the ready-to-use state so you do not need to worry about missing values and so on. Still, some simple data engineering is needed.\n",
    "\n",
    "1. Read `tic-tac-toe.csv` into a dataframe.\n",
    "1. Inspect the dataset. Determine if the dataset is reliable by eyeballing the data.\n",
    "1. Convert the categorical values to numeric in all columns.\n",
    "1. Separate the inputs and output.\n",
    "1. Normalize the input data."
   ]
  },
  {
   "cell_type": "code",
   "execution_count": 90,
   "metadata": {},
   "outputs": [],
   "source": [
    "# your code here\n",
    "\n",
    "df = pd.read_csv('tic-tac-toe.csv')"
   ]
  },
  {
   "cell_type": "code",
   "execution_count": 91,
   "metadata": {},
   "outputs": [
    {
     "data": {
      "text/html": [
       "<div>\n",
       "<style scoped>\n",
       "    .dataframe tbody tr th:only-of-type {\n",
       "        vertical-align: middle;\n",
       "    }\n",
       "\n",
       "    .dataframe tbody tr th {\n",
       "        vertical-align: top;\n",
       "    }\n",
       "\n",
       "    .dataframe thead th {\n",
       "        text-align: right;\n",
       "    }\n",
       "</style>\n",
       "<table border=\"1\" class=\"dataframe\">\n",
       "  <thead>\n",
       "    <tr style=\"text-align: right;\">\n",
       "      <th></th>\n",
       "      <th>TL</th>\n",
       "      <th>TM</th>\n",
       "      <th>TR</th>\n",
       "      <th>ML</th>\n",
       "      <th>MM</th>\n",
       "      <th>MR</th>\n",
       "      <th>BL</th>\n",
       "      <th>BM</th>\n",
       "      <th>BR</th>\n",
       "      <th>class</th>\n",
       "    </tr>\n",
       "  </thead>\n",
       "  <tbody>\n",
       "    <tr>\n",
       "      <th>0</th>\n",
       "      <td>x</td>\n",
       "      <td>x</td>\n",
       "      <td>x</td>\n",
       "      <td>x</td>\n",
       "      <td>o</td>\n",
       "      <td>o</td>\n",
       "      <td>x</td>\n",
       "      <td>o</td>\n",
       "      <td>o</td>\n",
       "      <td>True</td>\n",
       "    </tr>\n",
       "    <tr>\n",
       "      <th>1</th>\n",
       "      <td>x</td>\n",
       "      <td>x</td>\n",
       "      <td>x</td>\n",
       "      <td>x</td>\n",
       "      <td>o</td>\n",
       "      <td>o</td>\n",
       "      <td>o</td>\n",
       "      <td>x</td>\n",
       "      <td>o</td>\n",
       "      <td>True</td>\n",
       "    </tr>\n",
       "    <tr>\n",
       "      <th>2</th>\n",
       "      <td>x</td>\n",
       "      <td>x</td>\n",
       "      <td>x</td>\n",
       "      <td>x</td>\n",
       "      <td>o</td>\n",
       "      <td>o</td>\n",
       "      <td>o</td>\n",
       "      <td>o</td>\n",
       "      <td>x</td>\n",
       "      <td>True</td>\n",
       "    </tr>\n",
       "    <tr>\n",
       "      <th>3</th>\n",
       "      <td>x</td>\n",
       "      <td>x</td>\n",
       "      <td>x</td>\n",
       "      <td>x</td>\n",
       "      <td>o</td>\n",
       "      <td>o</td>\n",
       "      <td>o</td>\n",
       "      <td>b</td>\n",
       "      <td>b</td>\n",
       "      <td>True</td>\n",
       "    </tr>\n",
       "    <tr>\n",
       "      <th>4</th>\n",
       "      <td>x</td>\n",
       "      <td>x</td>\n",
       "      <td>x</td>\n",
       "      <td>x</td>\n",
       "      <td>o</td>\n",
       "      <td>o</td>\n",
       "      <td>b</td>\n",
       "      <td>o</td>\n",
       "      <td>b</td>\n",
       "      <td>True</td>\n",
       "    </tr>\n",
       "  </tbody>\n",
       "</table>\n",
       "</div>"
      ],
      "text/plain": [
       "  TL TM TR ML MM MR BL BM BR  class\n",
       "0  x  x  x  x  o  o  x  o  o   True\n",
       "1  x  x  x  x  o  o  o  x  o   True\n",
       "2  x  x  x  x  o  o  o  o  x   True\n",
       "3  x  x  x  x  o  o  o  b  b   True\n",
       "4  x  x  x  x  o  o  b  o  b   True"
      ]
     },
     "execution_count": 91,
     "metadata": {},
     "output_type": "execute_result"
    }
   ],
   "source": [
    "df.head()"
   ]
  },
  {
   "cell_type": "code",
   "execution_count": 92,
   "metadata": {},
   "outputs": [],
   "source": [
    "# o = 1 / x = 2 / b = 0"
   ]
  },
  {
   "cell_type": "code",
   "execution_count": 93,
   "metadata": {},
   "outputs": [],
   "source": [
    "def change_ft(a):\n",
    "    if a == 'o':\n",
    "        return 1\n",
    "    elif a == 'x':\n",
    "        return 2\n",
    "    else:\n",
    "        return 0"
   ]
  },
  {
   "cell_type": "code",
   "execution_count": 94,
   "metadata": {},
   "outputs": [],
   "source": [
    "for x in df.columns[:-1]:\n",
    "    df[x] = df[x].apply(change_ft)"
   ]
  },
  {
   "cell_type": "code",
   "execution_count": 95,
   "metadata": {},
   "outputs": [],
   "source": [
    "df_input = df[['TL', 'TM', 'TR', 'ML', 'MM', 'MR', 'BL', 'BM', 'BR']]\n",
    "df_output = df['class']"
   ]
  },
  {
   "cell_type": "code",
   "execution_count": 96,
   "metadata": {},
   "outputs": [],
   "source": [
    "x = df_input.values #returns a numpy array\n",
    "min_max_scaler = preprocessing.MinMaxScaler()\n",
    "x_scaled = min_max_scaler.fit_transform(x)\n",
    "\n",
    "df_input = pd.DataFrame(x_scaled, columns = df_input.columns)"
   ]
  },
  {
   "cell_type": "code",
   "execution_count": null,
   "metadata": {},
   "outputs": [],
   "source": []
  },
  {
   "cell_type": "code",
   "execution_count": null,
   "metadata": {},
   "outputs": [],
   "source": []
  },
  {
   "cell_type": "markdown",
   "metadata": {},
   "source": [
    "## Step 2: Build Neural Network\n",
    "\n",
    "To build the neural network, you can refer to your own codes you wrote while following the [Deep Learning with Python, TensorFlow, and Keras tutorial](https://www.youtube.com/watch?v=wQ8BIBpya2k) in the lesson. It's pretty similar to what you will be doing in this lab.\n",
    "\n",
    "1. Split the training and test data.\n",
    "1. Create a `Sequential` model.\n",
    "1. Add several layers to your model. Make sure you use ReLU as the activation function for the middle layers. Use Softmax for the output layer because each output has a single lable and all the label probabilities add up to 1.\n",
    "1. Compile the model using `adam` as the optimizer and `sparse_categorical_crossentropy` as the loss function. For metrics, use `accuracy` for now.\n",
    "1. Fit the training data.\n",
    "1. Evaluate your neural network model with the test data.\n",
    "1. Save your model as `tic-tac-toe.model`."
   ]
  },
  {
   "cell_type": "code",
   "execution_count": 122,
   "metadata": {},
   "outputs": [],
   "source": [
    "# your code here\n",
    "\n",
    "df_input_train, df_input_test, df_output_train, df_output_test = train_test_split(df_input, df_output)"
   ]
  },
  {
   "cell_type": "code",
   "execution_count": 172,
   "metadata": {},
   "outputs": [],
   "source": [
    "model = tf.keras.Sequential(\n",
    "    [\n",
    "        tf.keras.layers.Dense(2, activation='relu'),\n",
    "        tf.keras.layers.Dense(3, activation='relu'),\n",
    "        tf.keras.layers.Dense(2, activation='softmax'),\n",
    "    ]\n",
    ")"
   ]
  },
  {
   "cell_type": "code",
   "execution_count": 173,
   "metadata": {},
   "outputs": [],
   "source": [
    "model.compile(optimizer='adam', \n",
    "              loss=tf.keras.losses.SparseCategoricalCrossentropy(), \n",
    "              metrics=['accuracy'])"
   ]
  },
  {
   "cell_type": "code",
   "execution_count": 174,
   "metadata": {},
   "outputs": [
    {
     "ename": "ValueError",
     "evalue": "This model has not yet been built. Build the model first by calling `build()` or calling `fit()` with some data, or specify an `input_shape` argument in the first layer(s) for automatic build.",
     "output_type": "error",
     "traceback": [
      "\u001b[0;31m---------------------------------------------------------------------------\u001b[0m",
      "\u001b[0;31mValueError\u001b[0m                                Traceback (most recent call last)",
      "\u001b[0;32m<ipython-input-174-5f15418b3570>\u001b[0m in \u001b[0;36m<module>\u001b[0;34m\u001b[0m\n\u001b[0;32m----> 1\u001b[0;31m \u001b[0mmodel\u001b[0m\u001b[0;34m.\u001b[0m\u001b[0msummary\u001b[0m\u001b[0;34m(\u001b[0m\u001b[0;34m)\u001b[0m\u001b[0;34m\u001b[0m\u001b[0;34m\u001b[0m\u001b[0m\n\u001b[0m",
      "\u001b[0;32m~/miniconda3/envs/ironhack_env/lib/python3.7/site-packages/tensorflow/python/keras/engine/network.py\u001b[0m in \u001b[0;36msummary\u001b[0;34m(self, line_length, positions, print_fn)\u001b[0m\n\u001b[1;32m   1344\u001b[0m     \"\"\"\n\u001b[1;32m   1345\u001b[0m     \u001b[0;32mif\u001b[0m \u001b[0;32mnot\u001b[0m \u001b[0mself\u001b[0m\u001b[0;34m.\u001b[0m\u001b[0mbuilt\u001b[0m\u001b[0;34m:\u001b[0m\u001b[0;34m\u001b[0m\u001b[0;34m\u001b[0m\u001b[0m\n\u001b[0;32m-> 1346\u001b[0;31m       raise ValueError('This model has not yet been built. '\n\u001b[0m\u001b[1;32m   1347\u001b[0m                        \u001b[0;34m'Build the model first by calling `build()` or calling '\u001b[0m\u001b[0;34m\u001b[0m\u001b[0;34m\u001b[0m\u001b[0m\n\u001b[1;32m   1348\u001b[0m                        \u001b[0;34m'`fit()` with some data, or specify '\u001b[0m\u001b[0;34m\u001b[0m\u001b[0;34m\u001b[0m\u001b[0m\n",
      "\u001b[0;31mValueError\u001b[0m: This model has not yet been built. Build the model first by calling `build()` or calling `fit()` with some data, or specify an `input_shape` argument in the first layer(s) for automatic build."
     ]
    }
   ],
   "source": [
    "model.summary()"
   ]
  },
  {
   "cell_type": "code",
   "execution_count": 175,
   "metadata": {},
   "outputs": [
    {
     "name": "stdout",
     "output_type": "stream",
     "text": [
      "Epoch 1/20\n",
      "WARNING:tensorflow:Layer dense_24 is casting an input tensor from dtype float64 to the layer's dtype of float32, which is new behavior in TensorFlow 2.  The layer has dtype float32 because it's dtype defaults to floatx.\n",
      "\n",
      "If you intended to run this layer in float32, you can safely ignore this warning. If in doubt, this warning is likely only an issue if you are porting a TensorFlow 1.X model to TensorFlow 2.\n",
      "\n",
      "To change all layers to have dtype float64 by default, call `tf.keras.backend.set_floatx('float64')`. To change just this layer, pass dtype='float64' to the layer constructor. If you are the author of this layer, you can disable autocasting by passing autocast=False to the base Layer constructor.\n",
      "\n",
      "12/12 [==============================] - 1s 60ms/step - loss: 0.7820 - accuracy: 0.4290 - val_loss: 0.8199 - val_accuracy: 0.3833\n",
      "Epoch 2/20\n",
      "12/12 [==============================] - 0s 24ms/step - loss: 0.7502 - accuracy: 0.4875 - val_loss: 0.7839 - val_accuracy: 0.4542\n",
      "Epoch 3/20\n",
      "12/12 [==============================] - 0s 23ms/step - loss: 0.7267 - accuracy: 0.5390 - val_loss: 0.7572 - val_accuracy: 0.5125\n",
      "Epoch 4/20\n",
      "12/12 [==============================] - 0s 25ms/step - loss: 0.7112 - accuracy: 0.5766 - val_loss: 0.7383 - val_accuracy: 0.5292\n",
      "Epoch 5/20\n",
      "12/12 [==============================] - 0s 22ms/step - loss: 0.7006 - accuracy: 0.5961 - val_loss: 0.7248 - val_accuracy: 0.5375\n",
      "Epoch 6/20\n",
      "12/12 [==============================] - 0s 21ms/step - loss: 0.6938 - accuracy: 0.6058 - val_loss: 0.7151 - val_accuracy: 0.5458\n",
      "Epoch 7/20\n",
      "12/12 [==============================] - 0s 19ms/step - loss: 0.6888 - accuracy: 0.6170 - val_loss: 0.7067 - val_accuracy: 0.5833\n",
      "Epoch 8/20\n",
      "12/12 [==============================] - 0s 23ms/step - loss: 0.6843 - accuracy: 0.6323 - val_loss: 0.7008 - val_accuracy: 0.5833\n",
      "Epoch 9/20\n",
      "12/12 [==============================] - 0s 31ms/step - loss: 0.6808 - accuracy: 0.6421 - val_loss: 0.6948 - val_accuracy: 0.6167\n",
      "Epoch 10/20\n",
      "12/12 [==============================] - 0s 19ms/step - loss: 0.6777 - accuracy: 0.6295 - val_loss: 0.6894 - val_accuracy: 0.6292\n",
      "Epoch 11/20\n",
      "12/12 [==============================] - 0s 30ms/step - loss: 0.6750 - accuracy: 0.6295 - val_loss: 0.6844 - val_accuracy: 0.6333\n",
      "Epoch 12/20\n",
      "12/12 [==============================] - 0s 27ms/step - loss: 0.6723 - accuracy: 0.6253 - val_loss: 0.6803 - val_accuracy: 0.6250\n",
      "Epoch 13/20\n",
      "12/12 [==============================] - 0s 22ms/step - loss: 0.6701 - accuracy: 0.6267 - val_loss: 0.6764 - val_accuracy: 0.6250\n",
      "Epoch 14/20\n",
      "12/12 [==============================] - 0s 20ms/step - loss: 0.6680 - accuracy: 0.6226 - val_loss: 0.6727 - val_accuracy: 0.6250\n",
      "Epoch 15/20\n",
      "12/12 [==============================] - 0s 36ms/step - loss: 0.6661 - accuracy: 0.6212 - val_loss: 0.6701 - val_accuracy: 0.6167\n",
      "Epoch 16/20\n",
      "12/12 [==============================] - 0s 31ms/step - loss: 0.6644 - accuracy: 0.6281 - val_loss: 0.6674 - val_accuracy: 0.6250\n",
      "Epoch 17/20\n",
      "12/12 [==============================] - 0s 30ms/step - loss: 0.6628 - accuracy: 0.6323 - val_loss: 0.6650 - val_accuracy: 0.6250\n",
      "Epoch 18/20\n",
      "12/12 [==============================] - 0s 26ms/step - loss: 0.6613 - accuracy: 0.6309 - val_loss: 0.6628 - val_accuracy: 0.6417\n",
      "Epoch 19/20\n",
      "12/12 [==============================] - 0s 19ms/step - loss: 0.6599 - accuracy: 0.6351 - val_loss: 0.6608 - val_accuracy: 0.6500\n",
      "Epoch 20/20\n",
      "12/12 [==============================] - 0s 20ms/step - loss: 0.6586 - accuracy: 0.6393 - val_loss: 0.6591 - val_accuracy: 0.6500\n"
     ]
    }
   ],
   "source": [
    "history = model.fit(df_input_train,\n",
    "                    df_output_train,\n",
    "                    batch_size=64,\n",
    "                    epochs=20,\n",
    "                    validation_data=(df_input_test, df_output_test))"
   ]
  },
  {
   "cell_type": "code",
   "execution_count": 176,
   "metadata": {},
   "outputs": [
    {
     "name": "stdout",
     "output_type": "stream",
     "text": [
      "INFO:tensorflow:Assets written to: tic-tac-toe.model/assets\n"
     ]
    }
   ],
   "source": [
    "model.save('tic-tac-toe.model')"
   ]
  },
  {
   "cell_type": "code",
   "execution_count": null,
   "metadata": {},
   "outputs": [],
   "source": []
  },
  {
   "cell_type": "markdown",
   "metadata": {},
   "source": [
    "## Step 3: Make Predictions\n",
    "\n",
    "Now load your saved model and use it to make predictions on a few random rows in the test dataset. Check if the predictions are correct."
   ]
  },
  {
   "cell_type": "code",
   "execution_count": 177,
   "metadata": {},
   "outputs": [],
   "source": [
    "# your code here"
   ]
  },
  {
   "cell_type": "code",
   "execution_count": 178,
   "metadata": {},
   "outputs": [],
   "source": [
    "model = tf.keras.models.load_model('./tic-tac-toe.model')"
   ]
  },
  {
   "cell_type": "code",
   "execution_count": 179,
   "metadata": {},
   "outputs": [
    {
     "name": "stdout",
     "output_type": "stream",
     "text": [
      "Model: \"sequential_7\"\n",
      "_________________________________________________________________\n",
      "Layer (type)                 Output Shape              Param #   \n",
      "=================================================================\n",
      "dense_24 (Dense)             multiple                  20        \n",
      "_________________________________________________________________\n",
      "dense_25 (Dense)             multiple                  9         \n",
      "_________________________________________________________________\n",
      "dense_26 (Dense)             multiple                  8         \n",
      "=================================================================\n",
      "Total params: 37\n",
      "Trainable params: 37\n",
      "Non-trainable params: 0\n",
      "_________________________________________________________________\n"
     ]
    }
   ],
   "source": [
    "model.summary()"
   ]
  },
  {
   "cell_type": "code",
   "execution_count": 180,
   "metadata": {},
   "outputs": [
    {
     "data": {
      "text/html": [
       "<div>\n",
       "<style scoped>\n",
       "    .dataframe tbody tr th:only-of-type {\n",
       "        vertical-align: middle;\n",
       "    }\n",
       "\n",
       "    .dataframe tbody tr th {\n",
       "        vertical-align: top;\n",
       "    }\n",
       "\n",
       "    .dataframe thead th {\n",
       "        text-align: right;\n",
       "    }\n",
       "</style>\n",
       "<table border=\"1\" class=\"dataframe\">\n",
       "  <thead>\n",
       "    <tr style=\"text-align: right;\">\n",
       "      <th></th>\n",
       "      <th>TL</th>\n",
       "      <th>TM</th>\n",
       "      <th>TR</th>\n",
       "      <th>ML</th>\n",
       "      <th>MM</th>\n",
       "      <th>MR</th>\n",
       "      <th>BL</th>\n",
       "      <th>BM</th>\n",
       "      <th>BR</th>\n",
       "      <th>class</th>\n",
       "    </tr>\n",
       "  </thead>\n",
       "  <tbody>\n",
       "    <tr>\n",
       "      <th>0</th>\n",
       "      <td>2</td>\n",
       "      <td>2</td>\n",
       "      <td>2</td>\n",
       "      <td>2</td>\n",
       "      <td>1</td>\n",
       "      <td>1</td>\n",
       "      <td>2</td>\n",
       "      <td>1</td>\n",
       "      <td>1</td>\n",
       "      <td>True</td>\n",
       "    </tr>\n",
       "  </tbody>\n",
       "</table>\n",
       "</div>"
      ],
      "text/plain": [
       "   TL  TM  TR  ML  MM  MR  BL  BM  BR  class\n",
       "0   2   2   2   2   1   1   2   1   1   True"
      ]
     },
     "execution_count": 180,
     "metadata": {},
     "output_type": "execute_result"
    }
   ],
   "source": [
    "df.iloc[:1,]"
   ]
  },
  {
   "cell_type": "code",
   "execution_count": 181,
   "metadata": {},
   "outputs": [
    {
     "data": {
      "text/html": [
       "<div>\n",
       "<style scoped>\n",
       "    .dataframe tbody tr th:only-of-type {\n",
       "        vertical-align: middle;\n",
       "    }\n",
       "\n",
       "    .dataframe tbody tr th {\n",
       "        vertical-align: top;\n",
       "    }\n",
       "\n",
       "    .dataframe thead th {\n",
       "        text-align: right;\n",
       "    }\n",
       "</style>\n",
       "<table border=\"1\" class=\"dataframe\">\n",
       "  <thead>\n",
       "    <tr style=\"text-align: right;\">\n",
       "      <th></th>\n",
       "      <th>TL</th>\n",
       "      <th>TM</th>\n",
       "      <th>TR</th>\n",
       "      <th>ML</th>\n",
       "      <th>MM</th>\n",
       "      <th>MR</th>\n",
       "      <th>BL</th>\n",
       "      <th>BM</th>\n",
       "      <th>BR</th>\n",
       "      <th>class</th>\n",
       "    </tr>\n",
       "  </thead>\n",
       "  <tbody>\n",
       "    <tr>\n",
       "      <th>0</th>\n",
       "      <td>2</td>\n",
       "      <td>2</td>\n",
       "      <td>2</td>\n",
       "      <td>2</td>\n",
       "      <td>1</td>\n",
       "      <td>1</td>\n",
       "      <td>2</td>\n",
       "      <td>1</td>\n",
       "      <td>1</td>\n",
       "      <td>True</td>\n",
       "    </tr>\n",
       "  </tbody>\n",
       "</table>\n",
       "</div>"
      ],
      "text/plain": [
       "   TL  TM  TR  ML  MM  MR  BL  BM  BR  class\n",
       "0   2   2   2   2   1   1   2   1   1   True"
      ]
     },
     "metadata": {},
     "output_type": "display_data"
    },
    {
     "data": {
      "text/plain": [
       "TL    1.0\n",
       "TM    1.0\n",
       "TR    1.0\n",
       "ML    1.0\n",
       "MM    0.5\n",
       "MR    0.5\n",
       "BL    1.0\n",
       "BM    0.5\n",
       "BR    0.5\n",
       "Name: 0, dtype: float64"
      ]
     },
     "metadata": {},
     "output_type": "display_data"
    },
    {
     "data": {
      "text/plain": [
       "True"
      ]
     },
     "metadata": {},
     "output_type": "display_data"
    }
   ],
   "source": [
    "display(df.iloc[:1,])\n",
    "display(df_input.iloc[0])\n",
    "display(df_output.iloc[0])"
   ]
  },
  {
   "cell_type": "code",
   "execution_count": 171,
   "metadata": {},
   "outputs": [
    {
     "data": {
      "text/plain": [
       "array([[0.29659927, 0.3095732 , 0.19682096, 0.19700655],\n",
       "       [0.29659927, 0.3095732 , 0.19682096, 0.19700655],\n",
       "       [0.29659927, 0.3095732 , 0.19682096, 0.19700655],\n",
       "       [0.29659927, 0.3095732 , 0.19682096, 0.19700655],\n",
       "       [0.29659927, 0.3095732 , 0.19682096, 0.19700655],\n",
       "       [0.29659927, 0.3095732 , 0.19682096, 0.19700655],\n",
       "       [0.29710042, 0.30307832, 0.19918802, 0.20063317],\n",
       "       [0.29659927, 0.3095732 , 0.19682096, 0.19700655],\n",
       "       [0.29659927, 0.3095732 , 0.19682096, 0.19700655],\n",
       "       [0.29659927, 0.3095732 , 0.19682096, 0.19700655],\n",
       "       [0.29659927, 0.3095732 , 0.19682096, 0.19700655],\n",
       "       [0.29659927, 0.3095732 , 0.19682096, 0.19700655],\n",
       "       [0.29659927, 0.3095732 , 0.19682096, 0.19700655],\n",
       "       [0.29659927, 0.3095732 , 0.19682096, 0.19700655],\n",
       "       [0.29659927, 0.3095732 , 0.19682096, 0.19700655],\n",
       "       [0.29659927, 0.3095732 , 0.19682096, 0.19700655],\n",
       "       [0.29659927, 0.3095732 , 0.19682096, 0.19700655],\n",
       "       [0.29659927, 0.3095732 , 0.19682096, 0.19700655],\n",
       "       [0.29659927, 0.3095732 , 0.19682096, 0.19700655],\n",
       "       [0.29659927, 0.3095732 , 0.19682096, 0.19700655],\n",
       "       [0.29659927, 0.3095732 , 0.19682096, 0.19700655],\n",
       "       [0.29659927, 0.3095732 , 0.19682096, 0.19700655],\n",
       "       [0.29659927, 0.3095732 , 0.19682096, 0.19700655],\n",
       "       [0.29659927, 0.3095732 , 0.19682096, 0.19700655],\n",
       "       [0.29781857, 0.29177913, 0.20332098, 0.20708135],\n",
       "       [0.29659927, 0.3095732 , 0.19682096, 0.19700655],\n",
       "       [0.29659927, 0.3095732 , 0.19682096, 0.19700655],\n",
       "       [0.29659927, 0.3095732 , 0.19682096, 0.19700655],\n",
       "       [0.29659927, 0.3095732 , 0.19682096, 0.19700655],\n",
       "       [0.29659927, 0.3095732 , 0.19682096, 0.19700655],\n",
       "       [0.29659927, 0.3095732 , 0.19682096, 0.19700655],\n",
       "       [0.29659927, 0.3095732 , 0.19682096, 0.19700655],\n",
       "       [0.29659927, 0.3095732 , 0.19682096, 0.19700655],\n",
       "       [0.29659927, 0.3095732 , 0.19682096, 0.19700655],\n",
       "       [0.29659927, 0.3095732 , 0.19682096, 0.19700655],\n",
       "       [0.29659927, 0.3095732 , 0.19682096, 0.19700655],\n",
       "       [0.29659927, 0.3095732 , 0.19682096, 0.19700655],\n",
       "       [0.29659927, 0.3095732 , 0.19682096, 0.19700655],\n",
       "       [0.29659927, 0.3095732 , 0.19682096, 0.19700655],\n",
       "       [0.29659927, 0.3095732 , 0.19682096, 0.19700655],\n",
       "       [0.29659927, 0.3095732 , 0.19682096, 0.19700655],\n",
       "       [0.29659927, 0.3095732 , 0.19682096, 0.19700655],\n",
       "       [0.29659927, 0.3095732 , 0.19682096, 0.19700655],\n",
       "       [0.29659927, 0.3095732 , 0.19682096, 0.19700655],\n",
       "       [0.29659927, 0.3095732 , 0.19682096, 0.19700655],\n",
       "       [0.29659927, 0.3095732 , 0.19682096, 0.19700655],\n",
       "       [0.29659927, 0.3095732 , 0.19682096, 0.19700655],\n",
       "       [0.29659927, 0.3095732 , 0.19682096, 0.19700655],\n",
       "       [0.29659927, 0.3095732 , 0.19682096, 0.19700655],\n",
       "       [0.29713959, 0.30253366, 0.19938682, 0.20093992],\n",
       "       [0.29659927, 0.3095732 , 0.19682096, 0.19700655],\n",
       "       [0.29659927, 0.3095732 , 0.19682096, 0.19700655],\n",
       "       [0.29659927, 0.3095732 , 0.19682096, 0.19700655],\n",
       "       [0.29659927, 0.3095732 , 0.19682096, 0.19700655],\n",
       "       [0.29659927, 0.3095732 , 0.19682096, 0.19700655],\n",
       "       [0.29659927, 0.3095732 , 0.19682096, 0.19700655],\n",
       "       [0.29659927, 0.3095732 , 0.19682096, 0.19700655],\n",
       "       [0.2968598 , 0.30629945, 0.19801332, 0.19882746],\n",
       "       [0.29659927, 0.3095732 , 0.19682096, 0.19700655],\n",
       "       [0.29659927, 0.3095732 , 0.19682096, 0.19700655],\n",
       "       [0.29659927, 0.3095732 , 0.19682096, 0.19700655],\n",
       "       [0.29659927, 0.3095732 , 0.19682096, 0.19700655],\n",
       "       [0.29659927, 0.3095732 , 0.19682096, 0.19700655],\n",
       "       [0.29659927, 0.3095732 , 0.19682096, 0.19700655],\n",
       "       [0.29659927, 0.3095732 , 0.19682096, 0.19700655],\n",
       "       [0.29659927, 0.3095732 , 0.19682096, 0.19700655],\n",
       "       [0.29659927, 0.3095732 , 0.19682096, 0.19700655],\n",
       "       [0.29659927, 0.3095732 , 0.19682096, 0.19700655],\n",
       "       [0.29659927, 0.3095732 , 0.19682096, 0.19700655],\n",
       "       [0.29659927, 0.3095732 , 0.19682096, 0.19700655],\n",
       "       [0.29659927, 0.3095732 , 0.19682096, 0.19700655],\n",
       "       [0.29659927, 0.3095732 , 0.19682096, 0.19700655],\n",
       "       [0.29659927, 0.3095732 , 0.19682096, 0.19700655],\n",
       "       [0.29659927, 0.3095732 , 0.19682096, 0.19700655],\n",
       "       [0.29659927, 0.3095732 , 0.19682096, 0.19700655],\n",
       "       [0.29659927, 0.3095732 , 0.19682096, 0.19700655],\n",
       "       [0.29659927, 0.3095732 , 0.19682096, 0.19700655],\n",
       "       [0.29659927, 0.3095732 , 0.19682096, 0.19700655],\n",
       "       [0.29659927, 0.3095732 , 0.19682096, 0.19700655],\n",
       "       [0.29659927, 0.3095732 , 0.19682096, 0.19700655],\n",
       "       [0.29659927, 0.3095732 , 0.19682096, 0.19700655],\n",
       "       [0.29659927, 0.3095732 , 0.19682096, 0.19700655],\n",
       "       [0.29659927, 0.3095732 , 0.19682096, 0.19700655],\n",
       "       [0.29659927, 0.3095732 , 0.19682096, 0.19700655],\n",
       "       [0.29659927, 0.3095732 , 0.19682096, 0.19700655],\n",
       "       [0.29659927, 0.3095732 , 0.19682096, 0.19700655],\n",
       "       [0.29659927, 0.3095732 , 0.19682096, 0.19700655],\n",
       "       [0.29659927, 0.3095732 , 0.19682096, 0.19700655],\n",
       "       [0.29659927, 0.3095732 , 0.19682096, 0.19700655],\n",
       "       [0.29659927, 0.3095732 , 0.19682096, 0.19700655],\n",
       "       [0.29659927, 0.3095732 , 0.19682096, 0.19700655],\n",
       "       [0.29659927, 0.3095732 , 0.19682096, 0.19700655],\n",
       "       [0.29659927, 0.3095732 , 0.19682096, 0.19700655],\n",
       "       [0.29659927, 0.3095732 , 0.19682096, 0.19700655],\n",
       "       [0.29659927, 0.3095732 , 0.19682096, 0.19700655],\n",
       "       [0.29659927, 0.3095732 , 0.19682096, 0.19700655],\n",
       "       [0.29692075, 0.30550274, 0.19830371, 0.19927275],\n",
       "       [0.29659927, 0.3095732 , 0.19682096, 0.19700655],\n",
       "       [0.29659927, 0.3095732 , 0.19682096, 0.19700655],\n",
       "       [0.29659927, 0.3095732 , 0.19682096, 0.19700655],\n",
       "       [0.29659927, 0.3095732 , 0.19682096, 0.19700655],\n",
       "       [0.29659927, 0.3095732 , 0.19682096, 0.19700655],\n",
       "       [0.29659927, 0.3095732 , 0.19682096, 0.19700655],\n",
       "       [0.29659927, 0.3095732 , 0.19682096, 0.19700655],\n",
       "       [0.29659927, 0.3095732 , 0.19682096, 0.19700655],\n",
       "       [0.29659927, 0.3095732 , 0.19682096, 0.19700655],\n",
       "       [0.29659927, 0.3095732 , 0.19682096, 0.19700655],\n",
       "       [0.29659927, 0.3095732 , 0.19682096, 0.19700655],\n",
       "       [0.29659927, 0.3095732 , 0.19682096, 0.19700655],\n",
       "       [0.29659927, 0.3095732 , 0.19682096, 0.19700655],\n",
       "       [0.29659927, 0.3095732 , 0.19682096, 0.19700655],\n",
       "       [0.29659927, 0.3095732 , 0.19682096, 0.19700655],\n",
       "       [0.29659927, 0.3095732 , 0.19682096, 0.19700655],\n",
       "       [0.29659927, 0.3095732 , 0.19682096, 0.19700655],\n",
       "       [0.29659927, 0.3095732 , 0.19682096, 0.19700655],\n",
       "       [0.29659927, 0.3095732 , 0.19682096, 0.19700655],\n",
       "       [0.29659927, 0.3095732 , 0.19682096, 0.19700655],\n",
       "       [0.29659927, 0.3095732 , 0.19682096, 0.19700655],\n",
       "       [0.29659927, 0.3095732 , 0.19682096, 0.19700655],\n",
       "       [0.29659927, 0.3095732 , 0.19682096, 0.19700655],\n",
       "       [0.29659927, 0.3095732 , 0.19682096, 0.19700655],\n",
       "       [0.29659927, 0.3095732 , 0.19682096, 0.19700655],\n",
       "       [0.29659927, 0.3095732 , 0.19682096, 0.19700655],\n",
       "       [0.29659927, 0.3095732 , 0.19682096, 0.19700655],\n",
       "       [0.29659927, 0.3095732 , 0.19682096, 0.19700655],\n",
       "       [0.29659927, 0.3095732 , 0.19682096, 0.19700655],\n",
       "       [0.29659927, 0.3095732 , 0.19682096, 0.19700655],\n",
       "       [0.29659927, 0.3095732 , 0.19682096, 0.19700655],\n",
       "       [0.29659927, 0.3095732 , 0.19682096, 0.19700655],\n",
       "       [0.29659927, 0.3095732 , 0.19682096, 0.19700655],\n",
       "       [0.29659927, 0.3095732 , 0.19682096, 0.19700655],\n",
       "       [0.29659927, 0.3095732 , 0.19682096, 0.19700655],\n",
       "       [0.29659927, 0.3095732 , 0.19682096, 0.19700655],\n",
       "       [0.29659927, 0.3095732 , 0.19682096, 0.19700655],\n",
       "       [0.29659927, 0.3095732 , 0.19682096, 0.19700655],\n",
       "       [0.29659927, 0.3095732 , 0.19682096, 0.19700655],\n",
       "       [0.29659927, 0.3095732 , 0.19682096, 0.19700655],\n",
       "       [0.29659927, 0.3095732 , 0.19682096, 0.19700655],\n",
       "       [0.29659927, 0.3095732 , 0.19682096, 0.19700655],\n",
       "       [0.29659927, 0.3095732 , 0.19682096, 0.19700655],\n",
       "       [0.29659927, 0.3095732 , 0.19682096, 0.19700655],\n",
       "       [0.29659927, 0.3095732 , 0.19682096, 0.19700655],\n",
       "       [0.29659927, 0.3095732 , 0.19682096, 0.19700655],\n",
       "       [0.29659927, 0.3095732 , 0.19682096, 0.19700655],\n",
       "       [0.29659927, 0.3095732 , 0.19682096, 0.19700655],\n",
       "       [0.29659927, 0.3095732 , 0.19682096, 0.19700655],\n",
       "       [0.29659927, 0.3095732 , 0.19682096, 0.19700655],\n",
       "       [0.29659927, 0.3095732 , 0.19682096, 0.19700655],\n",
       "       [0.29659927, 0.3095732 , 0.19682096, 0.19700655],\n",
       "       [0.29659927, 0.3095732 , 0.19682096, 0.19700655],\n",
       "       [0.29659927, 0.3095732 , 0.19682096, 0.19700655],\n",
       "       [0.2909785 , 0.2974228 , 0.20434555, 0.2072531 ],\n",
       "       [0.29659927, 0.3095732 , 0.19682096, 0.19700655],\n",
       "       [0.29659927, 0.3095732 , 0.19682096, 0.19700655],\n",
       "       [0.29659927, 0.3095732 , 0.19682096, 0.19700655],\n",
       "       [0.29659927, 0.3095732 , 0.19682096, 0.19700655],\n",
       "       [0.29659927, 0.3095732 , 0.19682096, 0.19700655],\n",
       "       [0.29659927, 0.3095732 , 0.19682096, 0.19700655],\n",
       "       [0.29659927, 0.3095732 , 0.19682096, 0.19700655],\n",
       "       [0.29659927, 0.3095732 , 0.19682096, 0.19700655],\n",
       "       [0.29659927, 0.3095732 , 0.19682096, 0.19700655],\n",
       "       [0.29659927, 0.3095732 , 0.19682096, 0.19700655],\n",
       "       [0.29659927, 0.3095732 , 0.19682096, 0.19700655],\n",
       "       [0.29659927, 0.3095732 , 0.19682096, 0.19700655],\n",
       "       [0.29659927, 0.3095732 , 0.19682096, 0.19700655],\n",
       "       [0.29659927, 0.3095732 , 0.19682096, 0.19700655],\n",
       "       [0.29659927, 0.3095732 , 0.19682096, 0.19700655],\n",
       "       [0.29659927, 0.3095732 , 0.19682096, 0.19700655],\n",
       "       [0.29659927, 0.3095732 , 0.19682096, 0.19700655],\n",
       "       [0.29659927, 0.3095732 , 0.19682096, 0.19700655],\n",
       "       [0.29659927, 0.3095732 , 0.19682096, 0.19700655],\n",
       "       [0.29659927, 0.3095732 , 0.19682096, 0.19700655],\n",
       "       [0.29659927, 0.3095732 , 0.19682096, 0.19700655],\n",
       "       [0.29659927, 0.3095732 , 0.19682096, 0.19700655],\n",
       "       [0.29659927, 0.3095732 , 0.19682096, 0.19700655],\n",
       "       [0.29659927, 0.3095732 , 0.19682096, 0.19700655],\n",
       "       [0.29659927, 0.3095732 , 0.19682096, 0.19700655],\n",
       "       [0.29659927, 0.3095732 , 0.19682096, 0.19700655],\n",
       "       [0.29659927, 0.3095732 , 0.19682096, 0.19700655],\n",
       "       [0.29659927, 0.3095732 , 0.19682096, 0.19700655],\n",
       "       [0.29659927, 0.3095732 , 0.19682096, 0.19700655],\n",
       "       [0.29659927, 0.3095732 , 0.19682096, 0.19700655],\n",
       "       [0.29659927, 0.3095732 , 0.19682096, 0.19700655],\n",
       "       [0.29659927, 0.3095732 , 0.19682096, 0.19700655],\n",
       "       [0.29659927, 0.3095732 , 0.19682096, 0.19700655],\n",
       "       [0.29659927, 0.3095732 , 0.19682096, 0.19700655],\n",
       "       [0.29659927, 0.3095732 , 0.19682096, 0.19700655],\n",
       "       [0.29659927, 0.3095732 , 0.19682096, 0.19700655],\n",
       "       [0.29659927, 0.3095732 , 0.19682096, 0.19700655],\n",
       "       [0.29659927, 0.3095732 , 0.19682096, 0.19700655],\n",
       "       [0.29659927, 0.3095732 , 0.19682096, 0.19700655],\n",
       "       [0.29659927, 0.3095732 , 0.19682096, 0.19700655],\n",
       "       [0.29659927, 0.3095732 , 0.19682096, 0.19700655],\n",
       "       [0.29659927, 0.3095732 , 0.19682096, 0.19700655],\n",
       "       [0.29659927, 0.3095732 , 0.19682096, 0.19700655],\n",
       "       [0.29659927, 0.3095732 , 0.19682096, 0.19700655],\n",
       "       [0.29659927, 0.3095732 , 0.19682096, 0.19700655],\n",
       "       [0.29659927, 0.3095732 , 0.19682096, 0.19700655],\n",
       "       [0.29659927, 0.3095732 , 0.19682096, 0.19700655],\n",
       "       [0.29659927, 0.3095732 , 0.19682096, 0.19700655],\n",
       "       [0.29659927, 0.3095732 , 0.19682096, 0.19700655],\n",
       "       [0.29659927, 0.3095732 , 0.19682096, 0.19700655],\n",
       "       [0.29659927, 0.3095732 , 0.19682096, 0.19700655],\n",
       "       [0.29659927, 0.3095732 , 0.19682096, 0.19700655],\n",
       "       [0.29659927, 0.3095732 , 0.19682096, 0.19700655],\n",
       "       [0.29659927, 0.3095732 , 0.19682096, 0.19700655],\n",
       "       [0.29659927, 0.3095732 , 0.19682096, 0.19700655],\n",
       "       [0.29659927, 0.3095732 , 0.19682096, 0.19700655],\n",
       "       [0.29659927, 0.3095732 , 0.19682096, 0.19700655],\n",
       "       [0.29659927, 0.3095732 , 0.19682096, 0.19700655],\n",
       "       [0.29659927, 0.3095732 , 0.19682096, 0.19700655],\n",
       "       [0.29659927, 0.3095732 , 0.19682096, 0.19700655],\n",
       "       [0.29659927, 0.3095732 , 0.19682096, 0.19700655],\n",
       "       [0.29659927, 0.3095732 , 0.19682096, 0.19700655],\n",
       "       [0.29659927, 0.3095732 , 0.19682096, 0.19700655],\n",
       "       [0.29659927, 0.3095732 , 0.19682096, 0.19700655],\n",
       "       [0.29659927, 0.3095732 , 0.19682096, 0.19700655],\n",
       "       [0.29659927, 0.3095732 , 0.19682096, 0.19700655],\n",
       "       [0.29659927, 0.3095732 , 0.19682096, 0.19700655],\n",
       "       [0.29659927, 0.3095732 , 0.19682096, 0.19700655],\n",
       "       [0.29659927, 0.3095732 , 0.19682096, 0.19700655],\n",
       "       [0.29659927, 0.3095732 , 0.19682096, 0.19700655],\n",
       "       [0.29659927, 0.3095732 , 0.19682096, 0.19700655],\n",
       "       [0.29659927, 0.3095732 , 0.19682096, 0.19700655],\n",
       "       [0.29659927, 0.3095732 , 0.19682096, 0.19700655],\n",
       "       [0.29659927, 0.3095732 , 0.19682096, 0.19700655],\n",
       "       [0.29659927, 0.3095732 , 0.19682096, 0.19700655],\n",
       "       [0.29659927, 0.3095732 , 0.19682096, 0.19700655],\n",
       "       [0.29659927, 0.3095732 , 0.19682096, 0.19700655],\n",
       "       [0.29659927, 0.3095732 , 0.19682096, 0.19700655],\n",
       "       [0.29659927, 0.3095732 , 0.19682096, 0.19700655],\n",
       "       [0.29659927, 0.3095732 , 0.19682096, 0.19700655],\n",
       "       [0.29659927, 0.3095732 , 0.19682096, 0.19700655],\n",
       "       [0.29659927, 0.3095732 , 0.19682096, 0.19700655],\n",
       "       [0.2971637 , 0.30219525, 0.19951038, 0.20113072],\n",
       "       [0.29659927, 0.3095732 , 0.19682096, 0.19700655],\n",
       "       [0.29659927, 0.3095732 , 0.19682096, 0.19700655],\n",
       "       [0.29659927, 0.3095732 , 0.19682096, 0.19700655],\n",
       "       [0.29659927, 0.3095732 , 0.19682096, 0.19700655],\n",
       "       [0.29659927, 0.3095732 , 0.19682096, 0.19700655]], dtype=float32)"
      ]
     },
     "execution_count": 171,
     "metadata": {},
     "output_type": "execute_result"
    }
   ],
   "source": [
    "model.predict(df_input_test)"
   ]
  },
  {
   "cell_type": "code",
   "execution_count": null,
   "metadata": {},
   "outputs": [],
   "source": []
  },
  {
   "cell_type": "markdown",
   "metadata": {},
   "source": [
    "## Step 4: Improve Your Model\n",
    "\n",
    "Did your model achieve low loss (<0.1) and high accuracy (>0.95)? If not, try to improve your model.\n",
    "\n",
    "But how? There are so many things you can play with in Tensorflow and in the next challenge you'll learn about these things. But in this challenge, let's just do a few things to see if they will help.\n",
    "\n",
    "* Add more layers to your model. If the data are complex you need more layers. But don't use more layers than you need. If adding more layers does not improve the model performance you don't need additional layers.\n",
    "* Adjust the learning rate when you compile the model. This means you will create a custom `tf.keras.optimizers.Adam` instance where you specify the learning rate you want. Then pass the instance to `model.compile` as the optimizer.\n",
    "    * `tf.keras.optimizers.Adam` [reference](https://www.tensorflow.org/api_docs/python/tf/keras/optimizers/Adam).\n",
    "    * Don't worry if you don't understand what the learning rate does. You'll learn about it in the next challenge.\n",
    "* Adjust the number of epochs when you fit the training data to the model. Your model performance continues to improve as you train more epochs. But eventually it will reach the ceiling and the performance will stay the same."
   ]
  },
  {
   "cell_type": "code",
   "execution_count": null,
   "metadata": {},
   "outputs": [],
   "source": [
    "# your code here"
   ]
  },
  {
   "cell_type": "markdown",
   "metadata": {},
   "source": [
    "**Which approach(es) did you find helpful to improve your model performance?**"
   ]
  },
  {
   "cell_type": "code",
   "execution_count": null,
   "metadata": {},
   "outputs": [],
   "source": [
    "# your answer here"
   ]
  }
 ],
 "metadata": {
  "kernelspec": {
   "display_name": "Python [conda env:ironhack_env]",
   "language": "python",
   "name": "conda-env-ironhack_env-py"
  },
  "language_info": {
   "codemirror_mode": {
    "name": "ipython",
    "version": 3
   },
   "file_extension": ".py",
   "mimetype": "text/x-python",
   "name": "python",
   "nbconvert_exporter": "python",
   "pygments_lexer": "ipython3",
   "version": "3.7.7"
  }
 },
 "nbformat": 4,
 "nbformat_minor": 4
}
