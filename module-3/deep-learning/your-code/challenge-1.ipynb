{
 "cells": [
  {
   "cell_type": "code",
   "execution_count": 29,
   "metadata": {},
   "outputs": [],
   "source": [
    "import pandas as pd\n",
    "import numpy as np\n",
    "from sklearn import preprocessing\n",
    "from sklearn.model_selection import train_test_split\n",
    "import tensorflow as tfd\n",
    "import matplotlib.pyplot as plt"
   ]
  },
  {
   "cell_type": "markdown",
   "metadata": {},
   "source": [
    "# Challenge 1 - Tic Tac Toe\n",
    "\n",
    "In this lab you will perform deep learning analysis on a dataset of playing [Tic Tac Toe](https://en.wikipedia.org/wiki/Tic-tac-toe).\n",
    "\n",
    "There are 9 grids in Tic Tac Toe that are coded as the following picture shows:\n",
    "\n",
    "![Tic Tac Toe Grids](tttboard.jpg)\n",
    "\n",
    "In the first 9 columns of the dataset you can find which marks (`x` or `o`) exist in the grids. If there is no mark in a certain grid, it is labeled as `b`. The last column is `class` which tells you whether Player X (who always moves first in Tic Tac Toe) wins in this configuration. Note that when `class` has the value `False`, it means either Player O wins the game or it ends up as a draw."
   ]
  },
  {
   "cell_type": "markdown",
   "metadata": {},
   "source": [
    "Follow the steps suggested below to conduct a neural network analysis using Tensorflow and Keras. You will build a deep learning model to predict whether Player X wins the game or not.\n",
    "\n",
    "## Step 1: Data Engineering\n",
    "\n",
    "This dataset is almost in the ready-to-use state so you do not need to worry about missing values and so on. Still, some simple data engineering is needed.\n",
    "\n",
    "1. Read `tic-tac-toe.csv` into a dataframe.\n",
    "1. Inspect the dataset. Determine if the dataset is reliable by eyeballing the data.\n",
    "1. Convert the categorical values to numeric in all columns.\n",
    "1. Separate the inputs and output.\n",
    "1. Normalize the input data."
   ]
  },
  {
   "cell_type": "code",
   "execution_count": 139,
   "metadata": {},
   "outputs": [],
   "source": [
    "# your code here\n",
    "\n",
    "df = pd.read_csv('tic-tac-toe.csv')"
   ]
  },
  {
   "cell_type": "code",
   "execution_count": 140,
   "metadata": {},
   "outputs": [
    {
     "data": {
      "text/html": [
       "<div>\n",
       "<style scoped>\n",
       "    .dataframe tbody tr th:only-of-type {\n",
       "        vertical-align: middle;\n",
       "    }\n",
       "\n",
       "    .dataframe tbody tr th {\n",
       "        vertical-align: top;\n",
       "    }\n",
       "\n",
       "    .dataframe thead th {\n",
       "        text-align: right;\n",
       "    }\n",
       "</style>\n",
       "<table border=\"1\" class=\"dataframe\">\n",
       "  <thead>\n",
       "    <tr style=\"text-align: right;\">\n",
       "      <th></th>\n",
       "      <th>TL</th>\n",
       "      <th>TM</th>\n",
       "      <th>TR</th>\n",
       "      <th>ML</th>\n",
       "      <th>MM</th>\n",
       "      <th>MR</th>\n",
       "      <th>BL</th>\n",
       "      <th>BM</th>\n",
       "      <th>BR</th>\n",
       "      <th>class</th>\n",
       "    </tr>\n",
       "  </thead>\n",
       "  <tbody>\n",
       "    <tr>\n",
       "      <th>0</th>\n",
       "      <td>x</td>\n",
       "      <td>x</td>\n",
       "      <td>x</td>\n",
       "      <td>x</td>\n",
       "      <td>o</td>\n",
       "      <td>o</td>\n",
       "      <td>x</td>\n",
       "      <td>o</td>\n",
       "      <td>o</td>\n",
       "      <td>True</td>\n",
       "    </tr>\n",
       "    <tr>\n",
       "      <th>1</th>\n",
       "      <td>x</td>\n",
       "      <td>x</td>\n",
       "      <td>x</td>\n",
       "      <td>x</td>\n",
       "      <td>o</td>\n",
       "      <td>o</td>\n",
       "      <td>o</td>\n",
       "      <td>x</td>\n",
       "      <td>o</td>\n",
       "      <td>True</td>\n",
       "    </tr>\n",
       "    <tr>\n",
       "      <th>2</th>\n",
       "      <td>x</td>\n",
       "      <td>x</td>\n",
       "      <td>x</td>\n",
       "      <td>x</td>\n",
       "      <td>o</td>\n",
       "      <td>o</td>\n",
       "      <td>o</td>\n",
       "      <td>o</td>\n",
       "      <td>x</td>\n",
       "      <td>True</td>\n",
       "    </tr>\n",
       "    <tr>\n",
       "      <th>3</th>\n",
       "      <td>x</td>\n",
       "      <td>x</td>\n",
       "      <td>x</td>\n",
       "      <td>x</td>\n",
       "      <td>o</td>\n",
       "      <td>o</td>\n",
       "      <td>o</td>\n",
       "      <td>b</td>\n",
       "      <td>b</td>\n",
       "      <td>True</td>\n",
       "    </tr>\n",
       "    <tr>\n",
       "      <th>4</th>\n",
       "      <td>x</td>\n",
       "      <td>x</td>\n",
       "      <td>x</td>\n",
       "      <td>x</td>\n",
       "      <td>o</td>\n",
       "      <td>o</td>\n",
       "      <td>b</td>\n",
       "      <td>o</td>\n",
       "      <td>b</td>\n",
       "      <td>True</td>\n",
       "    </tr>\n",
       "  </tbody>\n",
       "</table>\n",
       "</div>"
      ],
      "text/plain": [
       "  TL TM TR ML MM MR BL BM BR  class\n",
       "0  x  x  x  x  o  o  x  o  o   True\n",
       "1  x  x  x  x  o  o  o  x  o   True\n",
       "2  x  x  x  x  o  o  o  o  x   True\n",
       "3  x  x  x  x  o  o  o  b  b   True\n",
       "4  x  x  x  x  o  o  b  o  b   True"
      ]
     },
     "execution_count": 140,
     "metadata": {},
     "output_type": "execute_result"
    }
   ],
   "source": [
    "df.head()"
   ]
  },
  {
   "cell_type": "code",
   "execution_count": 141,
   "metadata": {},
   "outputs": [
    {
     "data": {
      "text/plain": [
       "(958, 10)"
      ]
     },
     "execution_count": 141,
     "metadata": {},
     "output_type": "execute_result"
    }
   ],
   "source": [
    "df.shape"
   ]
  },
  {
   "cell_type": "code",
   "execution_count": 142,
   "metadata": {},
   "outputs": [],
   "source": [
    "# o = 1 / x = 2 / b = 0"
   ]
  },
  {
   "cell_type": "code",
   "execution_count": 143,
   "metadata": {},
   "outputs": [],
   "source": [
    "def change_ft(a):\n",
    "    if a == 'o':\n",
    "        return 1\n",
    "    elif a == 'x':\n",
    "        return 2\n",
    "    else:\n",
    "        return 0"
   ]
  },
  {
   "cell_type": "code",
   "execution_count": 144,
   "metadata": {},
   "outputs": [],
   "source": [
    "for x in df.columns[:-1]:\n",
    "    df[x] = df[x].apply(change_ft)"
   ]
  },
  {
   "cell_type": "code",
   "execution_count": 145,
   "metadata": {},
   "outputs": [],
   "source": [
    "df_input = pd.get_dummies(df[['TL', 'TM', 'TR', 'ML', 'MM', 'MR', 'BL', 'BM', 'BR']])\n",
    "df_output = df['class']"
   ]
  },
  {
   "cell_type": "code",
   "execution_count": null,
   "metadata": {},
   "outputs": [],
   "source": []
  },
  {
   "cell_type": "code",
   "execution_count": null,
   "metadata": {},
   "outputs": [],
   "source": []
  },
  {
   "cell_type": "markdown",
   "metadata": {},
   "source": [
    "## Step 2: Build Neural Network\n",
    "\n",
    "To build the neural network, you can refer to your own codes you wrote while following the [Deep Learning with Python, TensorFlow, and Keras tutorial](https://www.youtube.com/watch?v=wQ8BIBpya2k) in the lesson. It's pretty similar to what you will be doing in this lab.\n",
    "\n",
    "1. Split the training and test data.\n",
    "1. Create a `Sequential` model.\n",
    "1. Add several layers to your model. Make sure you use ReLU as the activation function for the middle layers. Use Softmax for the output layer because each output has a single lable and all the label probabilities add up to 1.\n",
    "1. Compile the model using `adam` as the optimizer and `sparse_categorical_crossentropy` as the loss function. For metrics, use `accuracy` for now.\n",
    "1. Fit the training data.\n",
    "1. Evaluate your neural network model with the test data.\n",
    "1. Save your model as `tic-tac-toe.model`."
   ]
  },
  {
   "cell_type": "code",
   "execution_count": 146,
   "metadata": {},
   "outputs": [],
   "source": [
    "# your code here\n",
    "\n",
    "df_input_train, df_input_test, df_output_train, df_output_test = train_test_split(df_input, df_output)"
   ]
  },
  {
   "cell_type": "code",
   "execution_count": 147,
   "metadata": {},
   "outputs": [],
   "source": [
    "model = tf.keras.Sequential(\n",
    "    [   \n",
    "        tf.keras.layers.Flatten(),\n",
    "        tf.keras.layers.Dense(2, activation='relu'),\n",
    "        tf.keras.layers.Dense(3, activation='relu'),\n",
    "        tf.keras.layers.Dense(2, activation='softmax'),\n",
    "    ]\n",
    ")"
   ]
  },
  {
   "cell_type": "code",
   "execution_count": 148,
   "metadata": {},
   "outputs": [],
   "source": [
    "model.compile(optimizer='adam', \n",
    "              loss=tf.keras.losses.SparseCategoricalCrossentropy(), \n",
    "              metrics=['accuracy'])"
   ]
  },
  {
   "cell_type": "code",
   "execution_count": 149,
   "metadata": {},
   "outputs": [
    {
     "name": "stdout",
     "output_type": "stream",
     "text": [
      "Epoch 1/20\n",
      "12/12 [==============================] - 0s 25ms/step - loss: 0.8701 - accuracy: 0.4095 - val_loss: 0.7660 - val_accuracy: 0.4917\n",
      "Epoch 2/20\n",
      "12/12 [==============================] - 0s 8ms/step - loss: 0.8082 - accuracy: 0.4499 - val_loss: 0.7330 - val_accuracy: 0.4958\n",
      "Epoch 3/20\n",
      "12/12 [==============================] - 0s 11ms/step - loss: 0.7654 - accuracy: 0.4875 - val_loss: 0.7103 - val_accuracy: 0.5375\n",
      "Epoch 4/20\n",
      "12/12 [==============================] - 0s 9ms/step - loss: 0.7337 - accuracy: 0.4930 - val_loss: 0.6963 - val_accuracy: 0.5167\n",
      "Epoch 5/20\n",
      "12/12 [==============================] - 0s 12ms/step - loss: 0.7116 - accuracy: 0.5056 - val_loss: 0.6863 - val_accuracy: 0.5458\n",
      "Epoch 6/20\n",
      "12/12 [==============================] - 0s 10ms/step - loss: 0.6936 - accuracy: 0.5543 - val_loss: 0.6796 - val_accuracy: 0.5750\n",
      "Epoch 7/20\n",
      "12/12 [==============================] - 0s 8ms/step - loss: 0.6810 - accuracy: 0.5822 - val_loss: 0.6747 - val_accuracy: 0.6042\n",
      "Epoch 8/20\n",
      "12/12 [==============================] - 0s 12ms/step - loss: 0.6713 - accuracy: 0.5905 - val_loss: 0.6706 - val_accuracy: 0.6167\n",
      "Epoch 9/20\n",
      "12/12 [==============================] - 0s 10ms/step - loss: 0.6631 - accuracy: 0.6226 - val_loss: 0.6681 - val_accuracy: 0.6208\n",
      "Epoch 10/20\n",
      "12/12 [==============================] - 0s 8ms/step - loss: 0.6571 - accuracy: 0.6337 - val_loss: 0.6666 - val_accuracy: 0.6167\n",
      "Epoch 11/20\n",
      "12/12 [==============================] - 0s 9ms/step - loss: 0.6521 - accuracy: 0.6532 - val_loss: 0.6653 - val_accuracy: 0.6000\n",
      "Epoch 12/20\n",
      "12/12 [==============================] - 0s 9ms/step - loss: 0.6481 - accuracy: 0.6657 - val_loss: 0.6648 - val_accuracy: 0.6083\n",
      "Epoch 13/20\n",
      "12/12 [==============================] - 0s 9ms/step - loss: 0.6447 - accuracy: 0.6685 - val_loss: 0.6646 - val_accuracy: 0.6083\n",
      "Epoch 14/20\n",
      "12/12 [==============================] - 0s 10ms/step - loss: 0.6427 - accuracy: 0.6685 - val_loss: 0.6646 - val_accuracy: 0.6083\n",
      "Epoch 15/20\n",
      "12/12 [==============================] - 0s 10ms/step - loss: 0.6402 - accuracy: 0.6685 - val_loss: 0.6647 - val_accuracy: 0.6083\n",
      "Epoch 16/20\n",
      "12/12 [==============================] - 0s 11ms/step - loss: 0.6383 - accuracy: 0.6685 - val_loss: 0.6649 - val_accuracy: 0.6083\n",
      "Epoch 17/20\n",
      "12/12 [==============================] - 0s 9ms/step - loss: 0.6369 - accuracy: 0.6685 - val_loss: 0.6653 - val_accuracy: 0.6083\n",
      "Epoch 18/20\n",
      "12/12 [==============================] - 0s 11ms/step - loss: 0.6357 - accuracy: 0.6685 - val_loss: 0.6657 - val_accuracy: 0.6083\n",
      "Epoch 19/20\n",
      "12/12 [==============================] - 0s 12ms/step - loss: 0.6350 - accuracy: 0.6685 - val_loss: 0.6660 - val_accuracy: 0.6083\n",
      "Epoch 20/20\n",
      "12/12 [==============================] - 0s 10ms/step - loss: 0.6341 - accuracy: 0.6685 - val_loss: 0.6664 - val_accuracy: 0.6083\n"
     ]
    }
   ],
   "source": [
    "history = model.fit(df_input_train,\n",
    "                    df_output_train,\n",
    "                    batch_size=64,\n",
    "                    epochs=20,\n",
    "                    validation_data=(df_input_test, df_output_test))"
   ]
  },
  {
   "cell_type": "code",
   "execution_count": 150,
   "metadata": {},
   "outputs": [],
   "source": [
    "def plot_training(history, metrics: list = ('loss',), figsize: tuple = (12, 5)):\n",
    "    \"\"\"\n",
    "    plots training selected metrics for every batch\n",
    "    \"\"\"\n",
    "    epochs = range(1, len(history.history[metrics[0]]) + 1)\n",
    "\n",
    "    fig, ax_arr = plt.subplots(1, len(metrics), figsize=figsize)\n",
    "\n",
    "    if not isinstance(ax_arr, np.ndarray):\n",
    "        ax_arr = np.array(ax_arr).reshape(1, )\n",
    "\n",
    "    for i, metric in enumerate(metrics):\n",
    "        ax_arr[i].plot(epochs, history.history[metric], color='k', linestyle='solid', label=metric, linewidth=2)\n",
    "        ax_arr[i].plot(epochs, history.history[f\"{metric}\"], color='r', linestyle='dotted',\n",
    "                       label=f'validation {metric}')\n",
    "        ax_arr[i].set_ylabel(metric)\n",
    "        ax_arr[i].set_xlabel('epochs')\n",
    "        ax_arr[i].grid()\n",
    "        ax_arr[i].legend()\n",
    "    plt.show()"
   ]
  },
  {
   "cell_type": "code",
   "execution_count": 151,
   "metadata": {},
   "outputs": [
    {
     "data": {
      "image/png": "[encoded data removed]",
      "text/plain": [
       "<Figure size 864x360 with 2 Axes>"
      ]
     },
     "metadata": {
      "needs_background": "light"
     },
     "output_type": "display_data"
    }
   ],
   "source": [
    "plot_training(history, metrics=['loss', 'accuracy'])"
   ]
  },
  {
   "cell_type": "code",
   "execution_count": 152,
   "metadata": {},
   "outputs": [
    {
     "name": "stdout",
     "output_type": "stream",
     "text": [
      "INFO:tensorflow:Assets written to: tic-tac-toe.model/assets\n"
     ]
    }
   ],
   "source": [
    "model.save('tic-tac-toe.model')"
   ]
  },
  {
   "cell_type": "markdown",
   "metadata": {},
   "source": [
    "## Step 3: Make Predictions\n",
    "\n",
    "Now load your saved model and use it to make predictions on a few random rows in the test dataset. Check if the predictions are correct."
   ]
  },
  {
   "cell_type": "code",
   "execution_count": 153,
   "metadata": {},
   "outputs": [],
   "source": [
    "# your code here"
   ]
  },
  {
   "cell_type": "code",
   "execution_count": 154,
   "metadata": {},
   "outputs": [],
   "source": [
    "model = tf.keras.models.load_model('./tic-tac-toe.model')"
   ]
  },
  {
   "cell_type": "code",
   "execution_count": 155,
   "metadata": {},
   "outputs": [
    {
     "name": "stdout",
     "output_type": "stream",
     "text": [
      "Model: \"sequential_16\"\n",
      "_________________________________________________________________\n",
      "Layer (type)                 Output Shape              Param #   \n",
      "=================================================================\n",
      "flatten_26 (Flatten)         multiple                  0         \n",
      "_________________________________________________________________\n",
      "dense_90 (Dense)             multiple                  20        \n",
      "_________________________________________________________________\n",
      "dense_91 (Dense)             multiple                  9         \n",
      "_________________________________________________________________\n",
      "dense_92 (Dense)             multiple                  8         \n",
      "=================================================================\n",
      "Total params: 37\n",
      "Trainable params: 37\n",
      "Non-trainable params: 0\n",
      "_________________________________________________________________\n"
     ]
    }
   ],
   "source": [
    "model.summary()"
   ]
  },
  {
   "cell_type": "code",
   "execution_count": 156,
   "metadata": {},
   "outputs": [],
   "source": [
    "predictions = model.predict(df_input_test)"
   ]
  },
  {
   "cell_type": "code",
   "execution_count": 157,
   "metadata": {},
   "outputs": [
    {
     "data": {
      "text/html": [
       "<div>\n",
       "<style scoped>\n",
       "    .dataframe tbody tr th:only-of-type {\n",
       "        vertical-align: middle;\n",
       "    }\n",
       "\n",
       "    .dataframe tbody tr th {\n",
       "        vertical-align: top;\n",
       "    }\n",
       "\n",
       "    .dataframe thead th {\n",
       "        text-align: right;\n",
       "    }\n",
       "</style>\n",
       "<table border=\"1\" class=\"dataframe\">\n",
       "  <thead>\n",
       "    <tr style=\"text-align: right;\">\n",
       "      <th></th>\n",
       "      <th>Test</th>\n",
       "      <th>Prediction</th>\n",
       "    </tr>\n",
       "  </thead>\n",
       "  <tbody>\n",
       "    <tr>\n",
       "      <th>833</th>\n",
       "      <td>False</td>\n",
       "      <td>1</td>\n",
       "    </tr>\n",
       "    <tr>\n",
       "      <th>167</th>\n",
       "      <td>True</td>\n",
       "      <td>1</td>\n",
       "    </tr>\n",
       "    <tr>\n",
       "      <th>596</th>\n",
       "      <td>True</td>\n",
       "      <td>1</td>\n",
       "    </tr>\n",
       "    <tr>\n",
       "      <th>631</th>\n",
       "      <td>False</td>\n",
       "      <td>1</td>\n",
       "    </tr>\n",
       "    <tr>\n",
       "      <th>440</th>\n",
       "      <td>True</td>\n",
       "      <td>1</td>\n",
       "    </tr>\n",
       "    <tr>\n",
       "      <th>...</th>\n",
       "      <td>...</td>\n",
       "      <td>...</td>\n",
       "    </tr>\n",
       "    <tr>\n",
       "      <th>37</th>\n",
       "      <td>True</td>\n",
       "      <td>1</td>\n",
       "    </tr>\n",
       "    <tr>\n",
       "      <th>493</th>\n",
       "      <td>True</td>\n",
       "      <td>1</td>\n",
       "    </tr>\n",
       "    <tr>\n",
       "      <th>641</th>\n",
       "      <td>False</td>\n",
       "      <td>1</td>\n",
       "    </tr>\n",
       "    <tr>\n",
       "      <th>751</th>\n",
       "      <td>False</td>\n",
       "      <td>1</td>\n",
       "    </tr>\n",
       "    <tr>\n",
       "      <th>385</th>\n",
       "      <td>True</td>\n",
       "      <td>1</td>\n",
       "    </tr>\n",
       "  </tbody>\n",
       "</table>\n",
       "<p>240 rows × 2 columns</p>\n",
       "</div>"
      ],
      "text/plain": [
       "      Test  Prediction\n",
       "833  False           1\n",
       "167   True           1\n",
       "596   True           1\n",
       "631  False           1\n",
       "440   True           1\n",
       "..     ...         ...\n",
       "37    True           1\n",
       "493   True           1\n",
       "641  False           1\n",
       "751  False           1\n",
       "385   True           1\n",
       "\n",
       "[240 rows x 2 columns]"
      ]
     },
     "execution_count": 157,
     "metadata": {},
     "output_type": "execute_result"
    }
   ],
   "source": [
    "pd.DataFrame({'Test': df_output_test, 'Prediction': np.argmax(predictions, axis=1)})"
   ]
  },
  {
   "cell_type": "markdown",
   "metadata": {},
   "source": [
    "## Step 4: Improve Your Model\n",
    "\n",
    "Did your model achieve low loss (<0.1) and high accuracy (>0.95)? If not, try to improve your model.\n",
    "\n",
    "But how? There are so many things you can play with in Tensorflow and in the next challenge you'll learn about these things. But in this challenge, let's just do a few things to see if they will help.\n",
    "\n",
    "* Add more layers to your model. If the data are complex you need more layers. But don't use more layers than you need. If adding more layers does not improve the model performance you don't need additional layers.\n",
    "* Adjust the learning rate when you compile the model. This means you will create a custom `tf.keras.optimizers.Adam` instance where you specify the learning rate you want. Then pass the instance to `model.compile` as the optimizer.\n",
    "    * `tf.keras.optimizers.Adam` [reference](https://www.tensorflow.org/api_docs/python/tf/keras/optimizers/Adam).\n",
    "    * Don't worry if you don't understand what the learning rate does. You'll learn about it in the next challenge.\n",
    "* Adjust the number of epochs when you fit the training data to the model. Your model performance continues to improve as you train more epochs. But eventually it will reach the ceiling and the performance will stay the same."
   ]
  },
  {
   "cell_type": "code",
   "execution_count": 312,
   "metadata": {},
   "outputs": [],
   "source": [
    "# your code here\n",
    "\n",
    "model = tf.keras.Sequential(\n",
    "    [   \n",
    "        tf.keras.layers.Flatten(),\n",
    "        tf.keras.layers.Dense(256, activation='relu'),\n",
    "        tf.keras.layers.Dense(128, activation='relu'),\n",
    "        tf.keras.layers.Dense(64, activation='relu'),\n",
    "        tf.keras.layers.Dense(32, activation='relu'),\n",
    "        tf.keras.layers.Dense(16, activation='relu'),\n",
    "        tf.keras.layers.Dense(8, activation='relu'),\n",
    "        tf.keras.layers.Flatten(),\n",
    "        tf.keras.layers.Dropout(0.1),\n",
    "        tf.keras.layers.Dense(2, activation='softmax'),\n",
    "    ]\n",
    ")"
   ]
  },
  {
   "cell_type": "code",
   "execution_count": 313,
   "metadata": {},
   "outputs": [],
   "source": [
    "model.compile(tf.keras.optimizers.Adam(learning_rate=0.001), \n",
    "              loss=tf.keras.losses.SparseCategoricalCrossentropy(), \n",
    "              metrics=['accuracy'])"
   ]
  },
  {
   "cell_type": "code",
   "execution_count": 315,
   "metadata": {},
   "outputs": [
    {
     "name": "stdout",
     "output_type": "stream",
     "text": [
      "Epoch 1/25\n",
      "6/6 [==============================] - 0s 26ms/step - loss: 0.2378 - accuracy: 0.9067 - val_loss: 0.4687 - val_accuracy: 0.7833\n",
      "Epoch 2/25\n",
      "6/6 [==============================] - 0s 24ms/step - loss: 0.2422 - accuracy: 0.9220 - val_loss: 0.4080 - val_accuracy: 0.8333\n",
      "Epoch 3/25\n",
      "6/6 [==============================] - 0s 17ms/step - loss: 0.1948 - accuracy: 0.9387 - val_loss: 0.3793 - val_accuracy: 0.8500\n",
      "Epoch 4/25\n",
      "6/6 [==============================] - 0s 15ms/step - loss: 0.1799 - accuracy: 0.9429 - val_loss: 0.4051 - val_accuracy: 0.8417\n",
      "Epoch 5/25\n",
      "6/6 [==============================] - 0s 19ms/step - loss: 0.1781 - accuracy: 0.9513 - val_loss: 0.4148 - val_accuracy: 0.8458\n",
      "Epoch 6/25\n",
      "6/6 [==============================] - 0s 16ms/step - loss: 0.1448 - accuracy: 0.9568 - val_loss: 0.3884 - val_accuracy: 0.8500\n",
      "Epoch 7/25\n",
      "6/6 [==============================] - 0s 19ms/step - loss: 0.1244 - accuracy: 0.9708 - val_loss: 0.4033 - val_accuracy: 0.8458\n",
      "Epoch 8/25\n",
      "6/6 [==============================] - 0s 21ms/step - loss: 0.1288 - accuracy: 0.9666 - val_loss: 0.3704 - val_accuracy: 0.8500\n",
      "Epoch 9/25\n",
      "6/6 [==============================] - 0s 21ms/step - loss: 0.1054 - accuracy: 0.9735 - val_loss: 0.3756 - val_accuracy: 0.8458\n",
      "Epoch 10/25\n",
      "6/6 [==============================] - 0s 21ms/step - loss: 0.0996 - accuracy: 0.9833 - val_loss: 0.3766 - val_accuracy: 0.8583\n",
      "Epoch 11/25\n",
      "6/6 [==============================] - 0s 20ms/step - loss: 0.0775 - accuracy: 0.9833 - val_loss: 0.3998 - val_accuracy: 0.8542\n",
      "Epoch 12/25\n",
      "6/6 [==============================] - 0s 16ms/step - loss: 0.0738 - accuracy: 0.9903 - val_loss: 0.3382 - val_accuracy: 0.8667\n",
      "Epoch 13/25\n",
      "6/6 [==============================] - 0s 21ms/step - loss: 0.0648 - accuracy: 0.9916 - val_loss: 0.3312 - val_accuracy: 0.8708\n",
      "Epoch 14/25\n",
      "6/6 [==============================] - 0s 21ms/step - loss: 0.0633 - accuracy: 0.9930 - val_loss: 0.3706 - val_accuracy: 0.8833\n",
      "Epoch 15/25\n",
      "6/6 [==============================] - 0s 18ms/step - loss: 0.0647 - accuracy: 0.9916 - val_loss: 0.3696 - val_accuracy: 0.8708\n",
      "Epoch 16/25\n",
      "6/6 [==============================] - 0s 20ms/step - loss: 0.0598 - accuracy: 0.9958 - val_loss: 0.3471 - val_accuracy: 0.8750\n",
      "Epoch 17/25\n",
      "6/6 [==============================] - 0s 19ms/step - loss: 0.0433 - accuracy: 0.9986 - val_loss: 0.3345 - val_accuracy: 0.8750\n",
      "Epoch 18/25\n",
      "6/6 [==============================] - 0s 20ms/step - loss: 0.0365 - accuracy: 1.0000 - val_loss: 0.3336 - val_accuracy: 0.8792\n",
      "Epoch 19/25\n",
      "6/6 [==============================] - 0s 19ms/step - loss: 0.0540 - accuracy: 0.9930 - val_loss: 0.3734 - val_accuracy: 0.8750\n",
      "Epoch 20/25\n",
      "6/6 [==============================] - 0s 22ms/step - loss: 0.0443 - accuracy: 0.9972 - val_loss: 0.3371 - val_accuracy: 0.8792\n",
      "Epoch 21/25\n",
      "6/6 [==============================] - 0s 20ms/step - loss: 0.0451 - accuracy: 0.9972 - val_loss: 0.3537 - val_accuracy: 0.8792\n",
      "Epoch 22/25\n",
      "6/6 [==============================] - 0s 19ms/step - loss: 0.0509 - accuracy: 0.9958 - val_loss: 0.3684 - val_accuracy: 0.8792\n",
      "Epoch 23/25\n",
      "6/6 [==============================] - 0s 18ms/step - loss: 0.0460 - accuracy: 0.9958 - val_loss: 0.3819 - val_accuracy: 0.8792\n",
      "Epoch 24/25\n",
      "6/6 [==============================] - 0s 22ms/step - loss: 0.0492 - accuracy: 0.9958 - val_loss: 0.3496 - val_accuracy: 0.8750\n",
      "Epoch 25/25\n",
      "6/6 [==============================] - 0s 15ms/step - loss: 0.0335 - accuracy: 1.0000 - val_loss: 0.3527 - val_accuracy: 0.8917\n"
     ]
    }
   ],
   "source": [
    "history = model.fit(df_input_train,\n",
    "                    df_output_train,\n",
    "                    batch_size=128,\n",
    "                    epochs=25,\n",
    "                    validation_data=(df_input_test, df_output_test))"
   ]
  },
  {
   "cell_type": "code",
   "execution_count": 316,
   "metadata": {},
   "outputs": [
    {
     "data": {
      "image/png": "[encoded data removed]",
      "text/plain": [
       "<Figure size 864x360 with 2 Axes>"
      ]
     },
     "metadata": {
      "needs_background": "light"
     },
     "output_type": "display_data"
    }
   ],
   "source": [
    "plot_training(history, metrics=['loss', 'accuracy'])"
   ]
  },
  {
   "cell_type": "markdown",
   "metadata": {},
   "source": [
    "**Which approach(es) did you find helpful to improve your model performance?**"
   ]
  },
  {
   "cell_type": "markdown",
   "metadata": {},
   "source": [
    "# your answer here\n",
    "\n",
    "Playing with the layers, epochs, batch size, learning rate, etc."
   ]
  },
  {
   "cell_type": "code",
   "execution_count": null,
   "metadata": {},
   "outputs": [],
   "source": []
  }
 ],
 "metadata": {
  "kernelspec": {
   "display_name": "Python [conda env:ironhack_env]",
   "language": "python",
   "name": "conda-env-ironhack_env-py"
  },
  "language_info": {
   "codemirror_mode": {
    "name": "ipython",
    "version": 3
   },
   "file_extension": ".py",
   "mimetype": "text/x-python",
   "name": "python",
   "nbconvert_exporter": "python",
   "pygments_lexer": "ipython3",
   "version": "3.7.7"
  }
 },
 "nbformat": 4,
 "nbformat_minor": 4
}
